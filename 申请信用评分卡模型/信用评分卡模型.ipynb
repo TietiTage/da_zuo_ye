{
 "cells": [
  {
   "cell_type": "code",
   "execution_count": 8,
   "metadata": {
    "ExecuteTime": {
     "end_time": "2024-09-09T15:21:18.425555Z",
     "start_time": "2024-09-09T15:21:18.409893Z"
    }
   },
   "outputs": [],
   "source": [
    "import numpy as np\n",
    "import pandas as pd\n",
    "import matplotlib.pyplot as plt\n",
    "import seaborn as sns\n",
    "%matplotlib inline"
   ]
  },
  {
   "cell_type": "code",
   "execution_count": 9,
   "metadata": {
    "ExecuteTime": {
     "end_time": "2024-09-10T06:40:24.517333Z",
     "start_time": "2024-09-10T06:40:24.503330Z"
    }
   },
   "outputs": [
    {
     "ename": "ImportError",
     "evalue": "Missing optional dependency 'xlrd'. Install xlrd >= 2.0.1 for xls Excel support Use pip or conda to install xlrd.",
     "output_type": "error",
     "traceback": [
      "\u001b[1;31m---------------------------------------------------------------------------\u001b[0m",
      "\u001b[1;31mModuleNotFoundError\u001b[0m                       Traceback (most recent call last)",
      "File \u001b[1;32mG:\\anaconda\\Lib\\site-packages\\pandas\\compat\\_optional.py:135\u001b[0m, in \u001b[0;36mimport_optional_dependency\u001b[1;34m(name, extra, errors, min_version)\u001b[0m\n\u001b[0;32m    134\u001b[0m \u001b[38;5;28;01mtry\u001b[39;00m:\n\u001b[1;32m--> 135\u001b[0m     module \u001b[38;5;241m=\u001b[39m importlib\u001b[38;5;241m.\u001b[39mimport_module(name)\n\u001b[0;32m    136\u001b[0m \u001b[38;5;28;01mexcept\u001b[39;00m \u001b[38;5;167;01mImportError\u001b[39;00m:\n",
      "File \u001b[1;32mG:\\anaconda\\Lib\\importlib\\__init__.py:90\u001b[0m, in \u001b[0;36mimport_module\u001b[1;34m(name, package)\u001b[0m\n\u001b[0;32m     89\u001b[0m         level \u001b[38;5;241m+\u001b[39m\u001b[38;5;241m=\u001b[39m \u001b[38;5;241m1\u001b[39m\n\u001b[1;32m---> 90\u001b[0m \u001b[38;5;28;01mreturn\u001b[39;00m _bootstrap\u001b[38;5;241m.\u001b[39m_gcd_import(name[level:], package, level)\n",
      "File \u001b[1;32m<frozen importlib._bootstrap>:1387\u001b[0m, in \u001b[0;36m_gcd_import\u001b[1;34m(name, package, level)\u001b[0m\n",
      "File \u001b[1;32m<frozen importlib._bootstrap>:1360\u001b[0m, in \u001b[0;36m_find_and_load\u001b[1;34m(name, import_)\u001b[0m\n",
      "File \u001b[1;32m<frozen importlib._bootstrap>:1324\u001b[0m, in \u001b[0;36m_find_and_load_unlocked\u001b[1;34m(name, import_)\u001b[0m\n",
      "\u001b[1;31mModuleNotFoundError\u001b[0m: No module named 'xlrd'",
      "\nDuring handling of the above exception, another exception occurred:\n",
      "\u001b[1;31mImportError\u001b[0m                               Traceback (most recent call last)",
      "Cell \u001b[1;32mIn[9], line 2\u001b[0m\n\u001b[0;32m      1\u001b[0m \u001b[38;5;66;03m# 标量的基本情况，变量名称、描述和类型\u001b[39;00m\n\u001b[1;32m----> 2\u001b[0m pd\u001b[38;5;241m.\u001b[39mread_excel(\u001b[38;5;124m\"\u001b[39m\u001b[38;5;124mData Dictionary.xls\u001b[39m\u001b[38;5;124m\"\u001b[39m)\n",
      "File \u001b[1;32mG:\\anaconda\\Lib\\site-packages\\pandas\\io\\excel\\_base.py:495\u001b[0m, in \u001b[0;36mread_excel\u001b[1;34m(io, sheet_name, header, names, index_col, usecols, dtype, engine, converters, true_values, false_values, skiprows, nrows, na_values, keep_default_na, na_filter, verbose, parse_dates, date_parser, date_format, thousands, decimal, comment, skipfooter, storage_options, dtype_backend, engine_kwargs)\u001b[0m\n\u001b[0;32m    493\u001b[0m \u001b[38;5;28;01mif\u001b[39;00m \u001b[38;5;129;01mnot\u001b[39;00m \u001b[38;5;28misinstance\u001b[39m(io, ExcelFile):\n\u001b[0;32m    494\u001b[0m     should_close \u001b[38;5;241m=\u001b[39m \u001b[38;5;28;01mTrue\u001b[39;00m\n\u001b[1;32m--> 495\u001b[0m     io \u001b[38;5;241m=\u001b[39m ExcelFile(\n\u001b[0;32m    496\u001b[0m         io,\n\u001b[0;32m    497\u001b[0m         storage_options\u001b[38;5;241m=\u001b[39mstorage_options,\n\u001b[0;32m    498\u001b[0m         engine\u001b[38;5;241m=\u001b[39mengine,\n\u001b[0;32m    499\u001b[0m         engine_kwargs\u001b[38;5;241m=\u001b[39mengine_kwargs,\n\u001b[0;32m    500\u001b[0m     )\n\u001b[0;32m    501\u001b[0m \u001b[38;5;28;01melif\u001b[39;00m engine \u001b[38;5;129;01mand\u001b[39;00m engine \u001b[38;5;241m!=\u001b[39m io\u001b[38;5;241m.\u001b[39mengine:\n\u001b[0;32m    502\u001b[0m     \u001b[38;5;28;01mraise\u001b[39;00m \u001b[38;5;167;01mValueError\u001b[39;00m(\n\u001b[0;32m    503\u001b[0m         \u001b[38;5;124m\"\u001b[39m\u001b[38;5;124mEngine should not be specified when passing \u001b[39m\u001b[38;5;124m\"\u001b[39m\n\u001b[0;32m    504\u001b[0m         \u001b[38;5;124m\"\u001b[39m\u001b[38;5;124man ExcelFile - ExcelFile already has the engine set\u001b[39m\u001b[38;5;124m\"\u001b[39m\n\u001b[0;32m    505\u001b[0m     )\n",
      "File \u001b[1;32mG:\\anaconda\\Lib\\site-packages\\pandas\\io\\excel\\_base.py:1567\u001b[0m, in \u001b[0;36mExcelFile.__init__\u001b[1;34m(self, path_or_buffer, engine, storage_options, engine_kwargs)\u001b[0m\n\u001b[0;32m   1564\u001b[0m \u001b[38;5;28mself\u001b[39m\u001b[38;5;241m.\u001b[39mengine \u001b[38;5;241m=\u001b[39m engine\n\u001b[0;32m   1565\u001b[0m \u001b[38;5;28mself\u001b[39m\u001b[38;5;241m.\u001b[39mstorage_options \u001b[38;5;241m=\u001b[39m storage_options\n\u001b[1;32m-> 1567\u001b[0m \u001b[38;5;28mself\u001b[39m\u001b[38;5;241m.\u001b[39m_reader \u001b[38;5;241m=\u001b[39m \u001b[38;5;28mself\u001b[39m\u001b[38;5;241m.\u001b[39m_engines[engine](\n\u001b[0;32m   1568\u001b[0m     \u001b[38;5;28mself\u001b[39m\u001b[38;5;241m.\u001b[39m_io,\n\u001b[0;32m   1569\u001b[0m     storage_options\u001b[38;5;241m=\u001b[39mstorage_options,\n\u001b[0;32m   1570\u001b[0m     engine_kwargs\u001b[38;5;241m=\u001b[39mengine_kwargs,\n\u001b[0;32m   1571\u001b[0m )\n",
      "File \u001b[1;32mG:\\anaconda\\Lib\\site-packages\\pandas\\io\\excel\\_xlrd.py:45\u001b[0m, in \u001b[0;36mXlrdReader.__init__\u001b[1;34m(self, filepath_or_buffer, storage_options, engine_kwargs)\u001b[0m\n\u001b[0;32m     33\u001b[0m \u001b[38;5;250m\u001b[39m\u001b[38;5;124;03m\"\"\"\u001b[39;00m\n\u001b[0;32m     34\u001b[0m \u001b[38;5;124;03mReader using xlrd engine.\u001b[39;00m\n\u001b[0;32m     35\u001b[0m \n\u001b[1;32m   (...)\u001b[0m\n\u001b[0;32m     42\u001b[0m \u001b[38;5;124;03m    Arbitrary keyword arguments passed to excel engine.\u001b[39;00m\n\u001b[0;32m     43\u001b[0m \u001b[38;5;124;03m\"\"\"\u001b[39;00m\n\u001b[0;32m     44\u001b[0m err_msg \u001b[38;5;241m=\u001b[39m \u001b[38;5;124m\"\u001b[39m\u001b[38;5;124mInstall xlrd >= 2.0.1 for xls Excel support\u001b[39m\u001b[38;5;124m\"\u001b[39m\n\u001b[1;32m---> 45\u001b[0m import_optional_dependency(\u001b[38;5;124m\"\u001b[39m\u001b[38;5;124mxlrd\u001b[39m\u001b[38;5;124m\"\u001b[39m, extra\u001b[38;5;241m=\u001b[39merr_msg)\n\u001b[0;32m     46\u001b[0m \u001b[38;5;28msuper\u001b[39m()\u001b[38;5;241m.\u001b[39m\u001b[38;5;21m__init__\u001b[39m(\n\u001b[0;32m     47\u001b[0m     filepath_or_buffer,\n\u001b[0;32m     48\u001b[0m     storage_options\u001b[38;5;241m=\u001b[39mstorage_options,\n\u001b[0;32m     49\u001b[0m     engine_kwargs\u001b[38;5;241m=\u001b[39mengine_kwargs,\n\u001b[0;32m     50\u001b[0m )\n",
      "File \u001b[1;32mG:\\anaconda\\Lib\\site-packages\\pandas\\compat\\_optional.py:138\u001b[0m, in \u001b[0;36mimport_optional_dependency\u001b[1;34m(name, extra, errors, min_version)\u001b[0m\n\u001b[0;32m    136\u001b[0m \u001b[38;5;28;01mexcept\u001b[39;00m \u001b[38;5;167;01mImportError\u001b[39;00m:\n\u001b[0;32m    137\u001b[0m     \u001b[38;5;28;01mif\u001b[39;00m errors \u001b[38;5;241m==\u001b[39m \u001b[38;5;124m\"\u001b[39m\u001b[38;5;124mraise\u001b[39m\u001b[38;5;124m\"\u001b[39m:\n\u001b[1;32m--> 138\u001b[0m         \u001b[38;5;28;01mraise\u001b[39;00m \u001b[38;5;167;01mImportError\u001b[39;00m(msg)\n\u001b[0;32m    139\u001b[0m     \u001b[38;5;28;01mreturn\u001b[39;00m \u001b[38;5;28;01mNone\u001b[39;00m\n\u001b[0;32m    141\u001b[0m \u001b[38;5;66;03m# Handle submodules: if we have submodule, grab parent module from sys.modules\u001b[39;00m\n",
      "\u001b[1;31mImportError\u001b[0m: Missing optional dependency 'xlrd'. Install xlrd >= 2.0.1 for xls Excel support Use pip or conda to install xlrd."
     ]
    }
   ],
   "source": [
    "# 标量的基本情况，变量名称、描述和类型\n",
    "pd.read_excel(\"Data Dictionary.xls\")"
   ]
  },
  {
   "cell_type": "markdown",
   "metadata": {},
   "source": [
    "# 中文翻译\n",
    "| 变量名称 | 描述 | 数据类型 |\n",
    "|----------|------|----------|\n",
    "| SeriousDlqin2yrs | 个人在过去两年内是否有90天以上的逾期记录 | 是/否 |\n",
    "| RevolvingUtilizationOfUnsecuredLines | 信用卡和个人信用额度的总余额除以信用额度总和 | 百分比 |\n",
    "| age | 借款人的年龄 | 整数 |\n",
    "| NumberOfTime30-59DaysPastDueNotWorse | 借款人在过去两年内30-59天逾期但不超过的次数 | 整数 |\n",
    "| DebtRatio | 每月债务支付、赡养费和生活费用除以每月总收入 | 百分比 |\n",
    "| MonthlyIncome | 每月收入 | 实数 |\n",
    "| NumberOfOpenCreditLinesAndLoans | 开放的贷款和信用额度的数量 | 整数 |\n",
    "| NumberOfTimes90DaysLate | 借款人90天或以上逾期的次数 | 整数 |\n",
    "| NumberRealEstateLoansOrLines | 抵押贷款和房地产贷款的数量，包括房屋净值信用额度 | 整数 |\n",
    "| NumberOfTime60-89DaysPastDueNotWorse | 借款人在过去两年内60-89天逾期但不超过的次数 | 整数 |\n",
    "| NumberOfDependents | 家庭中除借款人外的受抚养人数 | 整数 |\n"
   ]
  },
  {
   "cell_type": "code",
   "execution_count": 10,
   "metadata": {
    "ExecuteTime": {
     "end_time": "2024-09-09T15:21:19.578553Z",
     "start_time": "2024-09-09T15:21:19.470638Z"
    }
   },
   "outputs": [],
   "source": [
    "# 读取测试集合,去除掉第一个数据行\n",
    "df = pd.read_csv(\"cs-training.csv\").drop(\"Unnamed: 0\", axis=1)"
   ]
  },
  {
   "cell_type": "code",
   "execution_count": 11,
   "metadata": {
    "ExecuteTime": {
     "end_time": "2024-09-09T15:21:19.702727Z",
     "start_time": "2024-09-09T15:21:19.689934Z"
    }
   },
   "outputs": [
    {
     "data": {
      "text/html": [
       "<div>\n",
       "<style scoped>\n",
       "    .dataframe tbody tr th:only-of-type {\n",
       "        vertical-align: middle;\n",
       "    }\n",
       "\n",
       "    .dataframe tbody tr th {\n",
       "        vertical-align: top;\n",
       "    }\n",
       "\n",
       "    .dataframe thead th {\n",
       "        text-align: right;\n",
       "    }\n",
       "</style>\n",
       "<table border=\"1\" class=\"dataframe\">\n",
       "  <thead>\n",
       "    <tr style=\"text-align: right;\">\n",
       "      <th></th>\n",
       "      <th>SeriousDlqin2yrs</th>\n",
       "      <th>RevolvingUtilizationOfUnsecuredLines</th>\n",
       "      <th>age</th>\n",
       "      <th>NumberOfTime30-59DaysPastDueNotWorse</th>\n",
       "      <th>DebtRatio</th>\n",
       "      <th>MonthlyIncome</th>\n",
       "      <th>NumberOfOpenCreditLinesAndLoans</th>\n",
       "      <th>NumberOfTimes90DaysLate</th>\n",
       "      <th>NumberRealEstateLoansOrLines</th>\n",
       "      <th>NumberOfTime60-89DaysPastDueNotWorse</th>\n",
       "      <th>NumberOfDependents</th>\n",
       "    </tr>\n",
       "  </thead>\n",
       "  <tbody>\n",
       "    <tr>\n",
       "      <th>0</th>\n",
       "      <td>1</td>\n",
       "      <td>0.766127</td>\n",
       "      <td>45</td>\n",
       "      <td>2</td>\n",
       "      <td>0.802982</td>\n",
       "      <td>9120.0</td>\n",
       "      <td>13</td>\n",
       "      <td>0</td>\n",
       "      <td>6</td>\n",
       "      <td>0</td>\n",
       "      <td>2.0</td>\n",
       "    </tr>\n",
       "    <tr>\n",
       "      <th>1</th>\n",
       "      <td>0</td>\n",
       "      <td>0.957151</td>\n",
       "      <td>40</td>\n",
       "      <td>0</td>\n",
       "      <td>0.121876</td>\n",
       "      <td>2600.0</td>\n",
       "      <td>4</td>\n",
       "      <td>0</td>\n",
       "      <td>0</td>\n",
       "      <td>0</td>\n",
       "      <td>1.0</td>\n",
       "    </tr>\n",
       "    <tr>\n",
       "      <th>2</th>\n",
       "      <td>0</td>\n",
       "      <td>0.658180</td>\n",
       "      <td>38</td>\n",
       "      <td>1</td>\n",
       "      <td>0.085113</td>\n",
       "      <td>3042.0</td>\n",
       "      <td>2</td>\n",
       "      <td>1</td>\n",
       "      <td>0</td>\n",
       "      <td>0</td>\n",
       "      <td>0.0</td>\n",
       "    </tr>\n",
       "    <tr>\n",
       "      <th>3</th>\n",
       "      <td>0</td>\n",
       "      <td>0.233810</td>\n",
       "      <td>30</td>\n",
       "      <td>0</td>\n",
       "      <td>0.036050</td>\n",
       "      <td>3300.0</td>\n",
       "      <td>5</td>\n",
       "      <td>0</td>\n",
       "      <td>0</td>\n",
       "      <td>0</td>\n",
       "      <td>0.0</td>\n",
       "    </tr>\n",
       "    <tr>\n",
       "      <th>4</th>\n",
       "      <td>0</td>\n",
       "      <td>0.907239</td>\n",
       "      <td>49</td>\n",
       "      <td>1</td>\n",
       "      <td>0.024926</td>\n",
       "      <td>63588.0</td>\n",
       "      <td>7</td>\n",
       "      <td>0</td>\n",
       "      <td>1</td>\n",
       "      <td>0</td>\n",
       "      <td>0.0</td>\n",
       "    </tr>\n",
       "  </tbody>\n",
       "</table>\n",
       "</div>"
      ],
      "text/plain": [
       "   SeriousDlqin2yrs  RevolvingUtilizationOfUnsecuredLines  age  \\\n",
       "0                 1                              0.766127   45   \n",
       "1                 0                              0.957151   40   \n",
       "2                 0                              0.658180   38   \n",
       "3                 0                              0.233810   30   \n",
       "4                 0                              0.907239   49   \n",
       "\n",
       "   NumberOfTime30-59DaysPastDueNotWorse  DebtRatio  MonthlyIncome  \\\n",
       "0                                     2   0.802982         9120.0   \n",
       "1                                     0   0.121876         2600.0   \n",
       "2                                     1   0.085113         3042.0   \n",
       "3                                     0   0.036050         3300.0   \n",
       "4                                     1   0.024926        63588.0   \n",
       "\n",
       "   NumberOfOpenCreditLinesAndLoans  NumberOfTimes90DaysLate  \\\n",
       "0                               13                        0   \n",
       "1                                4                        0   \n",
       "2                                2                        1   \n",
       "3                                5                        0   \n",
       "4                                7                        0   \n",
       "\n",
       "   NumberRealEstateLoansOrLines  NumberOfTime60-89DaysPastDueNotWorse  \\\n",
       "0                             6                                     0   \n",
       "1                             0                                     0   \n",
       "2                             0                                     0   \n",
       "3                             0                                     0   \n",
       "4                             1                                     0   \n",
       "\n",
       "   NumberOfDependents  \n",
       "0                 2.0  \n",
       "1                 1.0  \n",
       "2                 0.0  \n",
       "3                 0.0  \n",
       "4                 0.0  "
      ]
     },
     "execution_count": 11,
     "metadata": {},
     "output_type": "execute_result"
    }
   ],
   "source": [
    "df.head()"
   ]
  },
  {
   "cell_type": "code",
   "execution_count": 12,
   "metadata": {
    "ExecuteTime": {
     "end_time": "2024-09-09T15:21:19.952288Z",
     "start_time": "2024-09-09T15:21:19.927160Z"
    }
   },
   "outputs": [
    {
     "name": "stdout",
     "output_type": "stream",
     "text": [
      "<class 'pandas.core.frame.DataFrame'>\n",
      "RangeIndex: 150000 entries, 0 to 149999\n",
      "Data columns (total 11 columns):\n",
      " #   Column                                Non-Null Count   Dtype  \n",
      "---  ------                                --------------   -----  \n",
      " 0   SeriousDlqin2yrs                      150000 non-null  int64  \n",
      " 1   RevolvingUtilizationOfUnsecuredLines  150000 non-null  float64\n",
      " 2   age                                   150000 non-null  int64  \n",
      " 3   NumberOfTime30-59DaysPastDueNotWorse  150000 non-null  int64  \n",
      " 4   DebtRatio                             150000 non-null  float64\n",
      " 5   MonthlyIncome                         120269 non-null  float64\n",
      " 6   NumberOfOpenCreditLinesAndLoans       150000 non-null  int64  \n",
      " 7   NumberOfTimes90DaysLate               150000 non-null  int64  \n",
      " 8   NumberRealEstateLoansOrLines          150000 non-null  int64  \n",
      " 9   NumberOfTime60-89DaysPastDueNotWorse  150000 non-null  int64  \n",
      " 10  NumberOfDependents                    146076 non-null  float64\n",
      "dtypes: float64(4), int64(7)\n",
      "memory usage: 12.6 MB\n"
     ]
    }
   ],
   "source": [
    "df.info()"
   ]
  },
  {
   "cell_type": "markdown",
   "metadata": {},
   "source": [
    "通过 info() 可以看出一共有150000条信息，MonthyIncome 和 NumberOfDependents 存在缺失的情况，MonthyIncome 缺失29731个数据，NumberOfDependents 缺失3924个数据。"
   ]
  },
  {
   "cell_type": "markdown",
   "metadata": {},
   "source": [
    "下面使用 describe() 来看数据集中的计数、均值、最大最小值、标准差和第一、二、三个四分位值，同时增加了缺失率的计算"
   ]
  },
  {
   "cell_type": "code",
   "execution_count": 13,
   "metadata": {
    "ExecuteTime": {
     "end_time": "2024-09-09T15:21:20.530034Z",
     "start_time": "2024-09-09T15:21:20.443875Z"
    }
   },
   "outputs": [
    {
     "data": {
      "text/html": [
       "<div>\n",
       "<style scoped>\n",
       "    .dataframe tbody tr th:only-of-type {\n",
       "        vertical-align: middle;\n",
       "    }\n",
       "\n",
       "    .dataframe tbody tr th {\n",
       "        vertical-align: top;\n",
       "    }\n",
       "\n",
       "    .dataframe thead th {\n",
       "        text-align: right;\n",
       "    }\n",
       "</style>\n",
       "<table border=\"1\" class=\"dataframe\">\n",
       "  <thead>\n",
       "    <tr style=\"text-align: right;\">\n",
       "      <th></th>\n",
       "      <th>count</th>\n",
       "      <th>mean</th>\n",
       "      <th>std</th>\n",
       "      <th>min</th>\n",
       "      <th>25%</th>\n",
       "      <th>50%</th>\n",
       "      <th>75%</th>\n",
       "      <th>max</th>\n",
       "      <th>missing_rate</th>\n",
       "    </tr>\n",
       "  </thead>\n",
       "  <tbody>\n",
       "    <tr>\n",
       "      <th>SeriousDlqin2yrs</th>\n",
       "      <td>150000.0</td>\n",
       "      <td>0.066840</td>\n",
       "      <td>0.249746</td>\n",
       "      <td>0.0</td>\n",
       "      <td>0.000000</td>\n",
       "      <td>0.000000</td>\n",
       "      <td>0.000000</td>\n",
       "      <td>1.0</td>\n",
       "      <td>0.000000</td>\n",
       "    </tr>\n",
       "    <tr>\n",
       "      <th>RevolvingUtilizationOfUnsecuredLines</th>\n",
       "      <td>150000.0</td>\n",
       "      <td>6.048438</td>\n",
       "      <td>249.755371</td>\n",
       "      <td>0.0</td>\n",
       "      <td>0.029867</td>\n",
       "      <td>0.154181</td>\n",
       "      <td>0.559046</td>\n",
       "      <td>50708.0</td>\n",
       "      <td>0.000000</td>\n",
       "    </tr>\n",
       "    <tr>\n",
       "      <th>age</th>\n",
       "      <td>150000.0</td>\n",
       "      <td>52.295207</td>\n",
       "      <td>14.771866</td>\n",
       "      <td>0.0</td>\n",
       "      <td>41.000000</td>\n",
       "      <td>52.000000</td>\n",
       "      <td>63.000000</td>\n",
       "      <td>109.0</td>\n",
       "      <td>0.000000</td>\n",
       "    </tr>\n",
       "    <tr>\n",
       "      <th>NumberOfTime30-59DaysPastDueNotWorse</th>\n",
       "      <td>150000.0</td>\n",
       "      <td>0.421033</td>\n",
       "      <td>4.192781</td>\n",
       "      <td>0.0</td>\n",
       "      <td>0.000000</td>\n",
       "      <td>0.000000</td>\n",
       "      <td>0.000000</td>\n",
       "      <td>98.0</td>\n",
       "      <td>0.000000</td>\n",
       "    </tr>\n",
       "    <tr>\n",
       "      <th>DebtRatio</th>\n",
       "      <td>150000.0</td>\n",
       "      <td>353.005076</td>\n",
       "      <td>2037.818523</td>\n",
       "      <td>0.0</td>\n",
       "      <td>0.175074</td>\n",
       "      <td>0.366508</td>\n",
       "      <td>0.868254</td>\n",
       "      <td>329664.0</td>\n",
       "      <td>0.000000</td>\n",
       "    </tr>\n",
       "    <tr>\n",
       "      <th>MonthlyIncome</th>\n",
       "      <td>120269.0</td>\n",
       "      <td>6670.221237</td>\n",
       "      <td>14384.674215</td>\n",
       "      <td>0.0</td>\n",
       "      <td>3400.000000</td>\n",
       "      <td>5400.000000</td>\n",
       "      <td>8249.000000</td>\n",
       "      <td>3008750.0</td>\n",
       "      <td>0.198207</td>\n",
       "    </tr>\n",
       "    <tr>\n",
       "      <th>NumberOfOpenCreditLinesAndLoans</th>\n",
       "      <td>150000.0</td>\n",
       "      <td>8.452760</td>\n",
       "      <td>5.145951</td>\n",
       "      <td>0.0</td>\n",
       "      <td>5.000000</td>\n",
       "      <td>8.000000</td>\n",
       "      <td>11.000000</td>\n",
       "      <td>58.0</td>\n",
       "      <td>0.000000</td>\n",
       "    </tr>\n",
       "    <tr>\n",
       "      <th>NumberOfTimes90DaysLate</th>\n",
       "      <td>150000.0</td>\n",
       "      <td>0.265973</td>\n",
       "      <td>4.169304</td>\n",
       "      <td>0.0</td>\n",
       "      <td>0.000000</td>\n",
       "      <td>0.000000</td>\n",
       "      <td>0.000000</td>\n",
       "      <td>98.0</td>\n",
       "      <td>0.000000</td>\n",
       "    </tr>\n",
       "    <tr>\n",
       "      <th>NumberRealEstateLoansOrLines</th>\n",
       "      <td>150000.0</td>\n",
       "      <td>1.018240</td>\n",
       "      <td>1.129771</td>\n",
       "      <td>0.0</td>\n",
       "      <td>0.000000</td>\n",
       "      <td>1.000000</td>\n",
       "      <td>2.000000</td>\n",
       "      <td>54.0</td>\n",
       "      <td>0.000000</td>\n",
       "    </tr>\n",
       "    <tr>\n",
       "      <th>NumberOfTime60-89DaysPastDueNotWorse</th>\n",
       "      <td>150000.0</td>\n",
       "      <td>0.240387</td>\n",
       "      <td>4.155179</td>\n",
       "      <td>0.0</td>\n",
       "      <td>0.000000</td>\n",
       "      <td>0.000000</td>\n",
       "      <td>0.000000</td>\n",
       "      <td>98.0</td>\n",
       "      <td>0.000000</td>\n",
       "    </tr>\n",
       "    <tr>\n",
       "      <th>NumberOfDependents</th>\n",
       "      <td>146076.0</td>\n",
       "      <td>0.757222</td>\n",
       "      <td>1.115086</td>\n",
       "      <td>0.0</td>\n",
       "      <td>0.000000</td>\n",
       "      <td>0.000000</td>\n",
       "      <td>1.000000</td>\n",
       "      <td>20.0</td>\n",
       "      <td>0.026160</td>\n",
       "    </tr>\n",
       "  </tbody>\n",
       "</table>\n",
       "</div>"
      ],
      "text/plain": [
       "                                         count         mean           std  \\\n",
       "SeriousDlqin2yrs                      150000.0     0.066840      0.249746   \n",
       "RevolvingUtilizationOfUnsecuredLines  150000.0     6.048438    249.755371   \n",
       "age                                   150000.0    52.295207     14.771866   \n",
       "NumberOfTime30-59DaysPastDueNotWorse  150000.0     0.421033      4.192781   \n",
       "DebtRatio                             150000.0   353.005076   2037.818523   \n",
       "MonthlyIncome                         120269.0  6670.221237  14384.674215   \n",
       "NumberOfOpenCreditLinesAndLoans       150000.0     8.452760      5.145951   \n",
       "NumberOfTimes90DaysLate               150000.0     0.265973      4.169304   \n",
       "NumberRealEstateLoansOrLines          150000.0     1.018240      1.129771   \n",
       "NumberOfTime60-89DaysPastDueNotWorse  150000.0     0.240387      4.155179   \n",
       "NumberOfDependents                    146076.0     0.757222      1.115086   \n",
       "\n",
       "                                      min          25%          50%  \\\n",
       "SeriousDlqin2yrs                      0.0     0.000000     0.000000   \n",
       "RevolvingUtilizationOfUnsecuredLines  0.0     0.029867     0.154181   \n",
       "age                                   0.0    41.000000    52.000000   \n",
       "NumberOfTime30-59DaysPastDueNotWorse  0.0     0.000000     0.000000   \n",
       "DebtRatio                             0.0     0.175074     0.366508   \n",
       "MonthlyIncome                         0.0  3400.000000  5400.000000   \n",
       "NumberOfOpenCreditLinesAndLoans       0.0     5.000000     8.000000   \n",
       "NumberOfTimes90DaysLate               0.0     0.000000     0.000000   \n",
       "NumberRealEstateLoansOrLines          0.0     0.000000     1.000000   \n",
       "NumberOfTime60-89DaysPastDueNotWorse  0.0     0.000000     0.000000   \n",
       "NumberOfDependents                    0.0     0.000000     0.000000   \n",
       "\n",
       "                                              75%        max  missing_rate  \n",
       "SeriousDlqin2yrs                         0.000000        1.0      0.000000  \n",
       "RevolvingUtilizationOfUnsecuredLines     0.559046    50708.0      0.000000  \n",
       "age                                     63.000000      109.0      0.000000  \n",
       "NumberOfTime30-59DaysPastDueNotWorse     0.000000       98.0      0.000000  \n",
       "DebtRatio                                0.868254   329664.0      0.000000  \n",
       "MonthlyIncome                         8249.000000  3008750.0      0.198207  \n",
       "NumberOfOpenCreditLinesAndLoans         11.000000       58.0      0.000000  \n",
       "NumberOfTimes90DaysLate                  0.000000       98.0      0.000000  \n",
       "NumberRealEstateLoansOrLines             2.000000       54.0      0.000000  \n",
       "NumberOfTime60-89DaysPastDueNotWorse     0.000000       98.0      0.000000  \n",
       "NumberOfDependents                       1.000000       20.0      0.026160  "
      ]
     },
     "execution_count": 13,
     "metadata": {},
     "output_type": "execute_result"
    }
   ],
   "source": [
    "df.describe().T.assign(missing_rate = df.apply(lambda x : (len(x)-x.count())/float(len(x))))"
   ]
  },
  {
   "cell_type": "code",
   "execution_count": 14,
   "metadata": {
    "ExecuteTime": {
     "end_time": "2024-09-09T15:21:20.545871Z",
     "start_time": "2024-09-09T15:21:20.531538Z"
    }
   },
   "outputs": [],
   "source": [
    "process_df=df.iloc[:, [5,0,1,2,3,4,6,7,8,9]]"
   ]
  },
  {
   "cell_type": "code",
   "execution_count": 15,
   "metadata": {
    "ExecuteTime": {
     "end_time": "2024-09-09T15:21:20.623976Z",
     "start_time": "2024-09-09T15:21:20.598605Z"
    }
   },
   "outputs": [
    {
     "data": {
      "text/html": [
       "<div>\n",
       "<style scoped>\n",
       "    .dataframe tbody tr th:only-of-type {\n",
       "        vertical-align: middle;\n",
       "    }\n",
       "\n",
       "    .dataframe tbody tr th {\n",
       "        vertical-align: top;\n",
       "    }\n",
       "\n",
       "    .dataframe thead th {\n",
       "        text-align: right;\n",
       "    }\n",
       "</style>\n",
       "<table border=\"1\" class=\"dataframe\">\n",
       "  <thead>\n",
       "    <tr style=\"text-align: right;\">\n",
       "      <th></th>\n",
       "      <th>MonthlyIncome</th>\n",
       "      <th>SeriousDlqin2yrs</th>\n",
       "      <th>RevolvingUtilizationOfUnsecuredLines</th>\n",
       "      <th>age</th>\n",
       "      <th>NumberOfTime30-59DaysPastDueNotWorse</th>\n",
       "      <th>DebtRatio</th>\n",
       "      <th>NumberOfOpenCreditLinesAndLoans</th>\n",
       "      <th>NumberOfTimes90DaysLate</th>\n",
       "      <th>NumberRealEstateLoansOrLines</th>\n",
       "      <th>NumberOfTime60-89DaysPastDueNotWorse</th>\n",
       "    </tr>\n",
       "  </thead>\n",
       "  <tbody>\n",
       "    <tr>\n",
       "      <th>0</th>\n",
       "      <td>9120.0</td>\n",
       "      <td>1</td>\n",
       "      <td>0.766127</td>\n",
       "      <td>45</td>\n",
       "      <td>2</td>\n",
       "      <td>0.802982</td>\n",
       "      <td>13</td>\n",
       "      <td>0</td>\n",
       "      <td>6</td>\n",
       "      <td>0</td>\n",
       "    </tr>\n",
       "    <tr>\n",
       "      <th>1</th>\n",
       "      <td>2600.0</td>\n",
       "      <td>0</td>\n",
       "      <td>0.957151</td>\n",
       "      <td>40</td>\n",
       "      <td>0</td>\n",
       "      <td>0.121876</td>\n",
       "      <td>4</td>\n",
       "      <td>0</td>\n",
       "      <td>0</td>\n",
       "      <td>0</td>\n",
       "    </tr>\n",
       "    <tr>\n",
       "      <th>2</th>\n",
       "      <td>3042.0</td>\n",
       "      <td>0</td>\n",
       "      <td>0.658180</td>\n",
       "      <td>38</td>\n",
       "      <td>1</td>\n",
       "      <td>0.085113</td>\n",
       "      <td>2</td>\n",
       "      <td>1</td>\n",
       "      <td>0</td>\n",
       "      <td>0</td>\n",
       "    </tr>\n",
       "    <tr>\n",
       "      <th>3</th>\n",
       "      <td>3300.0</td>\n",
       "      <td>0</td>\n",
       "      <td>0.233810</td>\n",
       "      <td>30</td>\n",
       "      <td>0</td>\n",
       "      <td>0.036050</td>\n",
       "      <td>5</td>\n",
       "      <td>0</td>\n",
       "      <td>0</td>\n",
       "      <td>0</td>\n",
       "    </tr>\n",
       "    <tr>\n",
       "      <th>4</th>\n",
       "      <td>63588.0</td>\n",
       "      <td>0</td>\n",
       "      <td>0.907239</td>\n",
       "      <td>49</td>\n",
       "      <td>1</td>\n",
       "      <td>0.024926</td>\n",
       "      <td>7</td>\n",
       "      <td>0</td>\n",
       "      <td>1</td>\n",
       "      <td>0</td>\n",
       "    </tr>\n",
       "    <tr>\n",
       "      <th>...</th>\n",
       "      <td>...</td>\n",
       "      <td>...</td>\n",
       "      <td>...</td>\n",
       "      <td>...</td>\n",
       "      <td>...</td>\n",
       "      <td>...</td>\n",
       "      <td>...</td>\n",
       "      <td>...</td>\n",
       "      <td>...</td>\n",
       "      <td>...</td>\n",
       "    </tr>\n",
       "    <tr>\n",
       "      <th>149995</th>\n",
       "      <td>2100.0</td>\n",
       "      <td>0</td>\n",
       "      <td>0.040674</td>\n",
       "      <td>74</td>\n",
       "      <td>0</td>\n",
       "      <td>0.225131</td>\n",
       "      <td>4</td>\n",
       "      <td>0</td>\n",
       "      <td>1</td>\n",
       "      <td>0</td>\n",
       "    </tr>\n",
       "    <tr>\n",
       "      <th>149996</th>\n",
       "      <td>5584.0</td>\n",
       "      <td>0</td>\n",
       "      <td>0.299745</td>\n",
       "      <td>44</td>\n",
       "      <td>0</td>\n",
       "      <td>0.716562</td>\n",
       "      <td>4</td>\n",
       "      <td>0</td>\n",
       "      <td>1</td>\n",
       "      <td>0</td>\n",
       "    </tr>\n",
       "    <tr>\n",
       "      <th>149997</th>\n",
       "      <td>NaN</td>\n",
       "      <td>0</td>\n",
       "      <td>0.246044</td>\n",
       "      <td>58</td>\n",
       "      <td>0</td>\n",
       "      <td>3870.000000</td>\n",
       "      <td>18</td>\n",
       "      <td>0</td>\n",
       "      <td>1</td>\n",
       "      <td>0</td>\n",
       "    </tr>\n",
       "    <tr>\n",
       "      <th>149998</th>\n",
       "      <td>5716.0</td>\n",
       "      <td>0</td>\n",
       "      <td>0.000000</td>\n",
       "      <td>30</td>\n",
       "      <td>0</td>\n",
       "      <td>0.000000</td>\n",
       "      <td>4</td>\n",
       "      <td>0</td>\n",
       "      <td>0</td>\n",
       "      <td>0</td>\n",
       "    </tr>\n",
       "    <tr>\n",
       "      <th>149999</th>\n",
       "      <td>8158.0</td>\n",
       "      <td>0</td>\n",
       "      <td>0.850283</td>\n",
       "      <td>64</td>\n",
       "      <td>0</td>\n",
       "      <td>0.249908</td>\n",
       "      <td>8</td>\n",
       "      <td>0</td>\n",
       "      <td>2</td>\n",
       "      <td>0</td>\n",
       "    </tr>\n",
       "  </tbody>\n",
       "</table>\n",
       "<p>150000 rows × 10 columns</p>\n",
       "</div>"
      ],
      "text/plain": [
       "        MonthlyIncome  SeriousDlqin2yrs  RevolvingUtilizationOfUnsecuredLines  \\\n",
       "0              9120.0                 1                              0.766127   \n",
       "1              2600.0                 0                              0.957151   \n",
       "2              3042.0                 0                              0.658180   \n",
       "3              3300.0                 0                              0.233810   \n",
       "4             63588.0                 0                              0.907239   \n",
       "...               ...               ...                                   ...   \n",
       "149995         2100.0                 0                              0.040674   \n",
       "149996         5584.0                 0                              0.299745   \n",
       "149997            NaN                 0                              0.246044   \n",
       "149998         5716.0                 0                              0.000000   \n",
       "149999         8158.0                 0                              0.850283   \n",
       "\n",
       "        age  NumberOfTime30-59DaysPastDueNotWorse    DebtRatio  \\\n",
       "0        45                                     2     0.802982   \n",
       "1        40                                     0     0.121876   \n",
       "2        38                                     1     0.085113   \n",
       "3        30                                     0     0.036050   \n",
       "4        49                                     1     0.024926   \n",
       "...     ...                                   ...          ...   \n",
       "149995   74                                     0     0.225131   \n",
       "149996   44                                     0     0.716562   \n",
       "149997   58                                     0  3870.000000   \n",
       "149998   30                                     0     0.000000   \n",
       "149999   64                                     0     0.249908   \n",
       "\n",
       "        NumberOfOpenCreditLinesAndLoans  NumberOfTimes90DaysLate  \\\n",
       "0                                    13                        0   \n",
       "1                                     4                        0   \n",
       "2                                     2                        1   \n",
       "3                                     5                        0   \n",
       "4                                     7                        0   \n",
       "...                                 ...                      ...   \n",
       "149995                                4                        0   \n",
       "149996                                4                        0   \n",
       "149997                               18                        0   \n",
       "149998                                4                        0   \n",
       "149999                                8                        0   \n",
       "\n",
       "        NumberRealEstateLoansOrLines  NumberOfTime60-89DaysPastDueNotWorse  \n",
       "0                                  6                                     0  \n",
       "1                                  0                                     0  \n",
       "2                                  0                                     0  \n",
       "3                                  0                                     0  \n",
       "4                                  1                                     0  \n",
       "...                              ...                                   ...  \n",
       "149995                             1                                     0  \n",
       "149996                             1                                     0  \n",
       "149997                             1                                     0  \n",
       "149998                             0                                     0  \n",
       "149999                             2                                     0  \n",
       "\n",
       "[150000 rows x 10 columns]"
      ]
     },
     "execution_count": 15,
     "metadata": {},
     "output_type": "execute_result"
    }
   ],
   "source": [
    "process_df"
   ]
  },
  {
   "cell_type": "markdown",
   "metadata": {},
   "source": [
    "### 缺失值处理：\n",
    "    1、由于 MonthyIncome 缺失较多，因此不适合直接进行删除，这边根据变量之间存在的关系来填补缺失值，并采用随机森林的方法；\n",
    "    \n",
    "    2、NumberOfDependents 的缺失较少，对于整体的样本影响有限，因此这边直接进行删除操作，后续也可以进行一些其他的填补操作。"
   ]
  },
  {
   "cell_type": "code",
   "execution_count": 16,
   "metadata": {
    "ExecuteTime": {
     "end_time": "2024-09-09T15:21:20.965617Z",
     "start_time": "2024-09-09T15:21:20.958600Z"
    }
   },
   "outputs": [],
   "source": [
    "from sklearn.ensemble import RandomForestRegressor\n",
    "# 用随机森林对缺失值预测填充函数\n",
    "def set_missing(df: pd.DataFrame):   \n",
    "    # 把已有的数值型特征取出来\n",
    "    process_df = df.iloc[:, [5,0,1,2,3,4,6,7,8,9]]\n",
    "    # 分成已知该特征和未知该特征两部分\n",
    "    known = process_df[process_df.MonthlyIncome.notnull()].values\n",
    "    unknown = process_df[process_df.MonthlyIncome.isnull()].values\n",
    "    # X为特征属性值\n",
    "    X = known[:, 1:]\n",
    "    # y为结果标签值\n",
    "    y = known[:, 0]\n",
    "    # fit到RandomForestRegressor之中\n",
    "    rfr = RandomForestRegressor(random_state=0, n_estimators=200, max_depth=3, n_jobs=-1)\n",
    "    rfr.fit(X, y)\n",
    "    # 用得到的模型进行未知特征值预测\n",
    "    predicted = rfr.predict(unknown[:, 1:]).round(0)\n",
    "    print(\"预测值： \", predicted)\n",
    "    # 用得到的预测结果填补原缺失数据\n",
    "    df.loc[(df.MonthlyIncome.isnull()), 'MonthlyIncome'] = predicted\n",
    "    return df"
   ]
  },
  {
   "cell_type": "code",
   "execution_count": 17,
   "metadata": {
    "ExecuteTime": {
     "end_time": "2024-09-09T15:21:26.069402Z",
     "start_time": "2024-09-09T15:21:21.207634Z"
    }
   },
   "outputs": [
    {
     "name": "stdout",
     "output_type": "stream",
     "text": [
      "预测值：  [8311. 1159. 8311. ... 1159. 2554. 2554.]\n"
     ]
    }
   ],
   "source": [
    "df = set_missing(df)"
   ]
  },
  {
   "cell_type": "code",
   "execution_count": 18,
   "metadata": {
    "ExecuteTime": {
     "end_time": "2024-09-09T15:21:26.085289Z",
     "start_time": "2024-09-09T15:21:26.071405Z"
    }
   },
   "outputs": [],
   "source": [
    "df = df.dropna() # 删除缺失值"
   ]
  },
  {
   "cell_type": "code",
   "execution_count": 19,
   "metadata": {
    "ExecuteTime": {
     "end_time": "2024-09-09T15:21:26.164250Z",
     "start_time": "2024-09-09T15:21:26.118446Z"
    }
   },
   "outputs": [],
   "source": [
    "df = df.drop_duplicates() # 删除重复值"
   ]
  },
  {
   "cell_type": "markdown",
   "metadata": {
    "collapsed": true,
    "jupyter": {
     "outputs_hidden": true
    }
   },
   "source": [
    "### 异常值处理：\n",
    "    异常值：偏离大多数抽样数据的数值，通常指测定值中与平均值的偏差超过两倍标准差的测定值\n",
    "    \n",
    "    通常采用离群值检测的方法对异常值进行检测"
   ]
  },
  {
   "cell_type": "markdown",
   "metadata": {},
   "source": [
    "**RevolvingUtilizationOfUnsecuredLines**"
   ]
  },
  {
   "cell_type": "code",
   "execution_count": 20,
   "metadata": {
    "ExecuteTime": {
     "end_time": "2024-09-09T15:21:26.272409Z",
     "start_time": "2024-09-09T15:21:26.166251Z"
    }
   },
   "outputs": [
    {
     "data": {
      "text/plain": [
       "<Axes: >"
      ]
     },
     "execution_count": 20,
     "metadata": {},
     "output_type": "execute_result"
    },
    {
     "data": {
      "image/png": "[encoded data removed]",
      "text/plain": [
       "<Figure size 640x480 with 1 Axes>"
      ]
     },
     "metadata": {},
     "output_type": "display_data"
    }
   ],
   "source": [
    "df[\"RevolvingUtilizationOfUnsecuredLines\"].plot(kind=\"box\", grid=True)"
   ]
  },
  {
   "cell_type": "markdown",
   "metadata": {},
   "source": [
    "可以看出,绝大部分值都位于0-2的范围内"
   ]
  },
  {
   "cell_type": "code",
   "execution_count": 21,
   "metadata": {
    "ExecuteTime": {
     "end_time": "2024-09-09T15:21:26.303428Z",
     "start_time": "2024-09-09T15:21:26.274349Z"
    }
   },
   "outputs": [],
   "source": [
    "# 使用2来代替大于2的值\n",
    "revNew = []\n",
    "for val in df.RevolvingUtilizationOfUnsecuredLines:\n",
    "    if val <= 2:\n",
    "        revNew.append(val)\n",
    "    else:\n",
    "        revNew.append(2.)"
   ]
  },
  {
   "cell_type": "code",
   "execution_count": 22,
   "metadata": {
    "ExecuteTime": {
     "end_time": "2024-09-09T15:21:26.318597Z",
     "start_time": "2024-09-09T15:21:26.304428Z"
    }
   },
   "outputs": [],
   "source": [
    "df.RevolvingUtilizationOfUnsecuredLines = revNew"
   ]
  },
  {
   "cell_type": "code",
   "execution_count": 23,
   "metadata": {
    "ExecuteTime": {
     "end_time": "2024-09-09T15:21:26.427860Z",
     "start_time": "2024-09-09T15:21:26.320593Z"
    }
   },
   "outputs": [
    {
     "data": {
      "text/plain": [
       "<Axes: >"
      ]
     },
     "execution_count": 23,
     "metadata": {},
     "output_type": "execute_result"
    },
    {
     "data": {
      "image/png": "[encoded data removed]",
      "text/plain": [
       "<Figure size 640x480 with 1 Axes>"
      ]
     },
     "metadata": {},
     "output_type": "display_data"
    }
   ],
   "source": [
    "df[\"RevolvingUtilizationOfUnsecuredLines\"].plot(kind=\"box\",grid=True)"
   ]
  },
  {
   "cell_type": "markdown",
   "metadata": {},
   "source": [
    "**age**"
   ]
  },
  {
   "cell_type": "code",
   "execution_count": 24,
   "metadata": {
    "ExecuteTime": {
     "end_time": "2024-09-09T15:21:29.961496Z",
     "start_time": "2024-09-09T15:21:29.818303Z"
    }
   },
   "outputs": [
    {
     "data": {
      "text/plain": [
       "<Axes: >"
      ]
     },
     "execution_count": 24,
     "metadata": {},
     "output_type": "execute_result"
    },
    {
     "data": {
      "image/png": "[encoded data removed]",
      "text/plain": [
       "<Figure size 640x480 with 1 Axes>"
      ]
     },
     "metadata": {},
     "output_type": "display_data"
    }
   ],
   "source": [
    "df.age.plot.box(grid=True)"
   ]
  },
  {
   "cell_type": "code",
   "execution_count": 25,
   "metadata": {
    "ExecuteTime": {
     "end_time": "2024-09-09T15:21:30.132904Z",
     "start_time": "2024-09-09T15:21:30.117862Z"
    }
   },
   "outputs": [
    {
     "data": {
      "text/plain": [
       "0         45\n",
       "1         40\n",
       "2         38\n",
       "3         30\n",
       "4         49\n",
       "          ..\n",
       "149995    74\n",
       "149996    44\n",
       "149997    58\n",
       "149998    30\n",
       "149999    64\n",
       "Name: age, Length: 145563, dtype: int64"
      ]
     },
     "execution_count": 25,
     "metadata": {},
     "output_type": "execute_result"
    }
   ],
   "source": [
    "df[\"age\"] "
   ]
  },
  {
   "cell_type": "code",
   "execution_count": 26,
   "metadata": {
    "ExecuteTime": {
     "end_time": "2024-09-10T06:29:54.249023Z",
     "start_time": "2024-09-10T06:29:54.235021Z"
    }
   },
   "outputs": [],
   "source": [
    "# 发现 age 属性中存在0值情况，而这些数据明显是异常值，因此对其进行处理\n",
    "df = df[df[\"age\"] > 0]"
   ]
  },
  {
   "cell_type": "code",
   "execution_count": 27,
   "metadata": {
    "ExecuteTime": {
     "end_time": "2024-09-10T06:29:54.689358Z",
     "start_time": "2024-09-10T06:29:54.676359Z"
    }
   },
   "outputs": [
    {
     "data": {
      "text/plain": [
       "0         45\n",
       "1         40\n",
       "2         38\n",
       "3         30\n",
       "4         49\n",
       "          ..\n",
       "149995    74\n",
       "149996    44\n",
       "149997    58\n",
       "149998    30\n",
       "149999    64\n",
       "Name: age, Length: 145562, dtype: int64"
      ]
     },
     "execution_count": 27,
     "metadata": {},
     "output_type": "execute_result"
    }
   ],
   "source": [
    "df['age']"
   ]
  },
  {
   "cell_type": "markdown",
   "metadata": {},
   "source": [
    "**NumberOfTime30-59DaysPastDueNotWorse**\n",
    "\n",
    "**NumberOfTime60-89DaysPastDueNotWorse**\n",
    "\n",
    "**NumberOfTimes90DaysLate**"
   ]
  },
  {
   "cell_type": "code",
   "execution_count": 28,
   "metadata": {
    "ExecuteTime": {
     "end_time": "2024-09-09T15:21:31.434242Z",
     "start_time": "2024-09-09T15:21:30.927066Z"
    }
   },
   "outputs": [
    {
     "data": {
      "text/plain": [
       "<Axes: >"
      ]
     },
     "execution_count": 28,
     "metadata": {},
     "output_type": "execute_result"
    },
    {
     "data": {
      "image/png": "[encoded data removed]",
      "text/plain": [
       "<Figure size 640x480 with 1 Axes>"
      ]
     },
     "metadata": {},
     "output_type": "display_data"
    }
   ],
   "source": [
    "df.boxplot(column=[\"NumberOfTime30-59DaysPastDueNotWorse\", \"NumberOfTime60-89DaysPastDueNotWorse\", \"NumberOfTimes90DaysLate\"], \n",
    "            rot=30)"
   ]
  },
  {
   "cell_type": "markdown",
   "metadata": {},
   "source": [
    "上面的箱线图可以看出 NumberOfTime30-59DaysPastDueNotWorse，NumberOfTime60-89DaysPastDueNotWorse，NumberOfTimes90DaysLate三个特征都存在两个异常值，下面使用 unique() 方法查看具体的异常值"
   ]
  },
  {
   "cell_type": "code",
   "execution_count": 29,
   "metadata": {
    "ExecuteTime": {
     "end_time": "2024-09-09T15:21:32.334281Z",
     "start_time": "2024-09-09T15:21:32.312816Z"
    }
   },
   "outputs": [
    {
     "name": "stdout",
     "output_type": "stream",
     "text": [
      "NumberOfTime30-59DaysPastDueNotWorse: [ 2  0  1  3  4  5  7 10  6 98 12  8  9 96 13 11]\n",
      "NumberOfTime60-89DaysPastDueNotWorse: [ 0  1  2  5  3 98  4  6  7  8 96 11  9]\n",
      "NumberOfTimes90DaysLate: [ 0  1  3  2  5  4 98 10  9  6  7  8 15 96 11 13 14 17 12]\n"
     ]
    }
   ],
   "source": [
    "print(\"NumberOfTime30-59DaysPastDueNotWorse:\", df[\"NumberOfTime30-59DaysPastDueNotWorse\"].unique())\n",
    "print(\"NumberOfTime60-89DaysPastDueNotWorse:\", df[\"NumberOfTime60-89DaysPastDueNotWorse\"].unique())\n",
    "print(\"NumberOfTimes90DaysLate:\", df[\"NumberOfTimes90DaysLate\"].unique())"
   ]
  },
  {
   "cell_type": "code",
   "execution_count": 30,
   "metadata": {
    "ExecuteTime": {
     "end_time": "2024-09-09T15:21:32.658510Z",
     "start_time": "2024-09-09T15:21:32.506627Z"
    }
   },
   "outputs": [],
   "source": [
    "def replaceOutlier(data):\n",
    "    New = []\n",
    "    med = data.median()\n",
    "    for val in data:\n",
    "        if ((val == 98) | (val == 96)):\n",
    "            New.append(med)\n",
    "        else:\n",
    "            New.append(val)\n",
    "    return New\n",
    "\n",
    "df[\"NumberOfTime30-59DaysPastDueNotWorse\"] = replaceOutlier(df[\"NumberOfTime30-59DaysPastDueNotWorse\"])\n",
    "df[\"NumberOfTime60-89DaysPastDueNotWorse\"] = replaceOutlier(df[\"NumberOfTime60-89DaysPastDueNotWorse\"])\n",
    "df[\"NumberOfTimes90DaysLate\"] = replaceOutlier(df[\"NumberOfTimes90DaysLate\"])"
   ]
  },
  {
   "cell_type": "code",
   "execution_count": 31,
   "metadata": {
    "ExecuteTime": {
     "end_time": "2024-09-09T15:21:33.062657Z",
     "start_time": "2024-09-09T15:21:32.684772Z"
    }
   },
   "outputs": [
    {
     "data": {
      "image/png": "[encoded data removed]",
      "text/plain": [
       "<Figure size 640x480 with 1 Axes>"
      ]
     },
     "metadata": {},
     "output_type": "display_data"
    }
   ],
   "source": [
    "# 下图可以看出 NumberOfTime30-59DaysPastDueNotWorse 删除 98 和 96 两个异常值时，\n",
    "# NumberOfTime60-89DaysPastDueNotWorse 和 NumberOfTimes90DaysLate 的两个异常值也同时删除了\n",
    "df.boxplot(column=[\"NumberOfTime30-59DaysPastDueNotWorse\", \"NumberOfTime60-89DaysPastDueNotWorse\", \"NumberOfTimes90DaysLate\"], \n",
    "            rot=30)\n",
    "plt.show()"
   ]
  },
  {
   "cell_type": "markdown",
   "metadata": {},
   "source": [
    "**DebtRatio**"
   ]
  },
  {
   "cell_type": "code",
   "execution_count": 32,
   "metadata": {
    "ExecuteTime": {
     "end_time": "2024-09-09T15:21:33.315019Z",
     "start_time": "2024-09-09T15:21:33.141437Z"
    }
   },
   "outputs": [
    {
     "data": {
      "text/plain": [
       "<Axes: >"
      ]
     },
     "execution_count": 32,
     "metadata": {},
     "output_type": "execute_result"
    },
    {
     "data": {
      "image/png": "[encoded data removed]",
      "text/plain": [
       "<Figure size 640x480 with 1 Axes>"
      ]
     },
     "metadata": {},
     "output_type": "display_data"
    }
   ],
   "source": [
    "df[\"DebtRatio\"].plot(kind=\"box\")"
   ]
  },
  {
   "cell_type": "code",
   "execution_count": 33,
   "metadata": {
    "ExecuteTime": {
     "end_time": "2024-09-09T15:21:33.330642Z",
     "start_time": "2024-09-09T15:21:33.317015Z"
    }
   },
   "outputs": [],
   "source": [
    "# 使用中位数绝对偏差 MAD（median absolute deviation）方法进行异常值的检测\n",
    "from scipy.stats import norm\n",
    "# \n",
    "# def mad_based_outlier(points, thresh=3.5):\n",
    "#     if type(points) is list:\n",
    "#         points = np.asarray(points)\n",
    "#     if len(points.shape) == 1:\n",
    "#         points = points[:, None]\n",
    "#     med = np.median(points, axis=0)\n",
    "#     abs_dev = np.absolute(points - med)\n",
    "#     med_abs_dev = np.median(abs_dev)\n",
    "# \n",
    "#     mod_z_score = norm.ppf(0.75) * abs_dev / med_abs_dev\n",
    "#     return mod_z_score > thresh\n",
    "def mad_based_outlier(points, thresh=3.5):\n",
    "    if isinstance(points, list):\n",
    "        points = np.asarray(points)\n",
    "    if len(points.shape) == 1:\n",
    "        points = points[:, None]\n",
    "    med = np.median(points, axis=0)\n",
    "    abs_dev = np.absolute(points - med)\n",
    "    med_abs_dev = np.median(abs_dev)\n",
    "\n",
    "    mod_z_score = norm.ppf(0.75) * abs_dev / med_abs_dev\n",
    "    return mod_z_score > thresh"
   ]
  },
  {
   "cell_type": "code",
   "execution_count": 34,
   "metadata": {
    "ExecuteTime": {
     "end_time": "2024-09-09T15:21:33.487273Z",
     "start_time": "2024-09-09T15:21:33.452718Z"
    }
   },
   "outputs": [],
   "source": [
    "# 检测出最小的异常值,用于替换异常值\n",
    "# minUpperBound = min([val for (val, out) in zip(df.DebtRatio, mad_based_outlier(df.DebtRatio)) if out == True])\n",
    "debt_ratios = df['DebtRatio'].values  # 先转换为 NumPy 数组\n",
    "outliers = mad_based_outlier(debt_ratios)\n",
    "minUpperBound = min([val for (val, out) in zip(debt_ratios, outliers) if out])"
   ]
  },
  {
   "cell_type": "code",
   "execution_count": 35,
   "metadata": {
    "ExecuteTime": {
     "end_time": "2024-09-09T15:21:33.625692Z",
     "start_time": "2024-09-09T15:21:33.611376Z"
    }
   },
   "outputs": [
    {
     "data": {
      "text/plain": [
       "1.566520924"
      ]
     },
     "execution_count": 35,
     "metadata": {},
     "output_type": "execute_result"
    }
   ],
   "source": [
    "minUpperBound"
   ]
  },
  {
   "cell_type": "code",
   "execution_count": 36,
   "metadata": {
    "ExecuteTime": {
     "end_time": "2024-09-09T15:21:33.797328Z",
     "start_time": "2024-09-09T15:21:33.751513Z"
    }
   },
   "outputs": [],
   "source": [
    "newDebtRatio = []\n",
    "for val in df.DebtRatio:\n",
    "    if val > minUpperBound:\n",
    "        newDebtRatio.append(minUpperBound)\n",
    "    else:\n",
    "        newDebtRatio.append(val)\n",
    "\n",
    "df.DebtRatio = newDebtRatio"
   ]
  },
  {
   "cell_type": "code",
   "execution_count": 37,
   "metadata": {
    "ExecuteTime": {
     "end_time": "2024-09-09T15:21:33.952465Z",
     "start_time": "2024-09-09T15:21:33.938990Z"
    }
   },
   "outputs": [
    {
     "data": {
      "text/plain": [
       "count    145562.000000\n",
       "mean          0.571777\n",
       "std           0.546250\n",
       "min           0.000000\n",
       "25%           0.173933\n",
       "50%           0.359088\n",
       "75%           0.770648\n",
       "max           1.566521\n",
       "Name: DebtRatio, dtype: float64"
      ]
     },
     "execution_count": 37,
     "metadata": {},
     "output_type": "execute_result"
    }
   ],
   "source": [
    "df.DebtRatio.describe()"
   ]
  },
  {
   "cell_type": "code",
   "execution_count": 38,
   "metadata": {
    "ExecuteTime": {
     "end_time": "2024-09-09T15:21:34.508777Z",
     "start_time": "2024-09-09T15:21:34.484010Z"
    }
   },
   "outputs": [
    {
     "data": {
      "text/plain": [
       "count    1.455620e+05\n",
       "mean     6.116310e+03\n",
       "std      1.318226e+04\n",
       "min      0.000000e+00\n",
       "25%      2.554000e+03\n",
       "50%      5.000000e+03\n",
       "75%      8.166000e+03\n",
       "max      3.008750e+06\n",
       "Name: MonthlyIncome, dtype: float64"
      ]
     },
     "execution_count": 38,
     "metadata": {},
     "output_type": "execute_result"
    }
   ],
   "source": [
    "df.MonthlyIncome.describe()"
   ]
  },
  {
   "cell_type": "code",
   "execution_count": 39,
   "metadata": {},
   "outputs": [
    {
     "data": {
      "text/plain": [
       "<Axes: >"
      ]
     },
     "execution_count": 39,
     "metadata": {},
     "output_type": "execute_result"
    },
    {
     "data": {
      "image/png": "[encoded data removed]",
      "text/plain": [
       "<Figure size 640x480 with 1 Axes>"
      ]
     },
     "metadata": {},
     "output_type": "display_data"
    }
   ],
   "source": [
    "df[\"DebtRatio\"].plot.box(grid=True)"
   ]
  },
  {
   "cell_type": "markdown",
   "metadata": {},
   "source": [
    "**Monthly income**"
   ]
  },
  {
   "cell_type": "code",
   "execution_count": 40,
   "metadata": {
    "ExecuteTime": {
     "end_time": "2024-09-09T15:21:34.924371Z",
     "start_time": "2024-09-09T15:21:34.818834Z"
    }
   },
   "outputs": [
    {
     "data": {
      "text/plain": [
       "<Axes: >"
      ]
     },
     "execution_count": 40,
     "metadata": {},
     "output_type": "execute_result"
    },
    {
     "data": {
      "image/png": "[encoded data removed]",
      "text/plain": [
       "<Figure size 640x480 with 1 Axes>"
      ]
     },
     "metadata": {},
     "output_type": "display_data"
    }
   ],
   "source": [
    "df.MonthlyIncome.plot.box(grid=True)"
   ]
  },
  {
   "cell_type": "code",
   "execution_count": 41,
   "metadata": {
    "ExecuteTime": {
     "end_time": "2024-09-09T15:21:35.153653Z",
     "start_time": "2024-09-09T15:21:34.986562Z"
    }
   },
   "outputs": [],
   "source": [
    "minUpperBound_MonthlyIncome = min([val for (val, out) in zip(df.MonthlyIncome, mad_based_outlier(df.MonthlyIncome.values)) if out == True])"
   ]
  },
  {
   "cell_type": "code",
   "execution_count": 42,
   "metadata": {
    "ExecuteTime": {
     "end_time": "2024-09-09T15:21:35.261594Z",
     "start_time": "2024-09-09T15:21:35.217410Z"
    }
   },
   "outputs": [],
   "source": [
    "newMonthlyIncome = []\n",
    "for val in df.MonthlyIncome:\n",
    "    if val > minUpperBound_MonthlyIncome:\n",
    "        newMonthlyIncome.append(minUpperBound_MonthlyIncome)\n",
    "    else:\n",
    "        newMonthlyIncome.append(val)\n",
    "\n",
    "df.MonthlyIncome = newMonthlyIncome"
   ]
  },
  {
   "cell_type": "code",
   "execution_count": 43,
   "metadata": {
    "ExecuteTime": {
     "end_time": "2024-09-09T15:21:36.251495Z",
     "start_time": "2024-09-09T15:21:36.130354Z"
    }
   },
   "outputs": [
    {
     "data": {
      "text/plain": [
       "<Axes: >"
      ]
     },
     "execution_count": 43,
     "metadata": {},
     "output_type": "execute_result"
    },
    {
     "data": {
      "image/png": "[encoded data removed]",
      "text/plain": [
       "<Figure size 640x480 with 1 Axes>"
      ]
     },
     "metadata": {},
     "output_type": "display_data"
    }
   ],
   "source": [
    "df.MonthlyIncome.plot.box()"
   ]
  },
  {
   "cell_type": "markdown",
   "metadata": {},
   "source": [
    "**NumberOfOpenCreditLinesAndLoans**"
   ]
  },
  {
   "cell_type": "code",
   "execution_count": 44,
   "metadata": {
    "ExecuteTime": {
     "end_time": "2024-09-09T15:21:37.369346Z",
     "start_time": "2024-09-09T15:21:37.234103Z"
    }
   },
   "outputs": [
    {
     "data": {
      "text/plain": [
       "<Axes: >"
      ]
     },
     "execution_count": 44,
     "metadata": {},
     "output_type": "execute_result"
    },
    {
     "data": {
      "image/png": "[encoded data removed]",
      "text/plain": [
       "<Figure size 640x480 with 1 Axes>"
      ]
     },
     "metadata": {},
     "output_type": "display_data"
    }
   ],
   "source": [
    "df[\"NumberOfOpenCreditLinesAndLoans\"].plot(kind=\"box\")"
   ]
  },
  {
   "cell_type": "code",
   "execution_count": 45,
   "metadata": {
    "ExecuteTime": {
     "end_time": "2024-09-09T15:21:37.802287Z",
     "start_time": "2024-09-09T15:21:37.646608Z"
    }
   },
   "outputs": [],
   "source": [
    "minUpperBound_NumberOfOpenCreditLinesAndLoans = min([val for (val, out) in zip(df.NumberOfOpenCreditLinesAndLoans, mad_based_outlier(df.NumberOfOpenCreditLinesAndLoans.values)) if out == True])"
   ]
  },
  {
   "cell_type": "code",
   "execution_count": 46,
   "metadata": {
    "ExecuteTime": {
     "end_time": "2024-09-09T15:21:38.159411Z",
     "start_time": "2024-09-09T15:21:38.090630Z"
    }
   },
   "outputs": [],
   "source": [
    "newNumberOfOpenCreditLinesAndLoans = []\n",
    "for val in df.NumberOfOpenCreditLinesAndLoans:\n",
    "    if val > minUpperBound_NumberOfOpenCreditLinesAndLoans:\n",
    "        newNumberOfOpenCreditLinesAndLoans.append(minUpperBound_NumberOfOpenCreditLinesAndLoans)\n",
    "    else:\n",
    "        newNumberOfOpenCreditLinesAndLoans.append(val)\n",
    "\n",
    "df.NumberOfOpenCreditLinesAndLoans = newNumberOfOpenCreditLinesAndLoans"
   ]
  },
  {
   "cell_type": "code",
   "execution_count": 47,
   "metadata": {
    "ExecuteTime": {
     "end_time": "2024-09-09T15:21:38.702477Z",
     "start_time": "2024-09-09T15:21:38.687367Z"
    }
   },
   "outputs": [
    {
     "data": {
      "text/plain": [
       "count    145562.000000\n",
       "mean          8.503689\n",
       "std           4.936663\n",
       "min           0.000000\n",
       "25%           5.000000\n",
       "50%           8.000000\n",
       "75%          11.000000\n",
       "max          24.000000\n",
       "Name: NumberOfOpenCreditLinesAndLoans, dtype: float64"
      ]
     },
     "execution_count": 47,
     "metadata": {},
     "output_type": "execute_result"
    }
   ],
   "source": [
    "df.NumberOfOpenCreditLinesAndLoans.describe()"
   ]
  },
  {
   "cell_type": "code",
   "execution_count": 48,
   "metadata": {
    "ExecuteTime": {
     "end_time": "2024-09-09T15:21:39.246487Z",
     "start_time": "2024-09-09T15:21:39.132315Z"
    }
   },
   "outputs": [
    {
     "data": {
      "text/plain": [
       "<Axes: >"
      ]
     },
     "execution_count": 48,
     "metadata": {},
     "output_type": "execute_result"
    },
    {
     "data": {
      "image/png": "[encoded data removed]",
      "text/plain": [
       "<Figure size 640x480 with 1 Axes>"
      ]
     },
     "metadata": {},
     "output_type": "display_data"
    }
   ],
   "source": [
    "df[\"NumberOfOpenCreditLinesAndLoans\"].plot(kind=\"box\", grid=True)"
   ]
  },
  {
   "cell_type": "markdown",
   "metadata": {},
   "source": [
    "**NumberRealEstateLoansOrLines**"
   ]
  },
  {
   "cell_type": "code",
   "execution_count": 49,
   "metadata": {
    "ExecuteTime": {
     "end_time": "2024-09-09T15:21:40.378374Z",
     "start_time": "2024-09-09T15:21:40.272545Z"
    }
   },
   "outputs": [
    {
     "data": {
      "text/plain": [
       "<Axes: >"
      ]
     },
     "execution_count": 49,
     "metadata": {},
     "output_type": "execute_result"
    },
    {
     "data": {
      "image/png": "[encoded data removed]",
      "text/plain": [
       "<Figure size 640x480 with 1 Axes>"
      ]
     },
     "metadata": {},
     "output_type": "display_data"
    }
   ],
   "source": [
    "df[\"NumberRealEstateLoansOrLines\"].plot(kind=\"box\")"
   ]
  },
  {
   "cell_type": "code",
   "execution_count": 50,
   "metadata": {
    "ExecuteTime": {
     "end_time": "2024-09-09T15:21:40.875513Z",
     "start_time": "2024-09-09T15:21:40.816369Z"
    }
   },
   "outputs": [],
   "source": [
    "realNew = []\n",
    "for val in df.NumberRealEstateLoansOrLines:\n",
    "    if val > 17:\n",
    "        realNew.append(17)\n",
    "    else:\n",
    "        realNew.append(val)\n",
    "\n",
    "df.NumberRealEstateLoansOrLines = realNew"
   ]
  },
  {
   "cell_type": "code",
   "execution_count": 51,
   "metadata": {
    "ExecuteTime": {
     "end_time": "2024-09-09T15:21:41.701319Z",
     "start_time": "2024-09-09T15:21:41.546345Z"
    }
   },
   "outputs": [
    {
     "data": {
      "text/plain": [
       "<Axes: >"
      ]
     },
     "execution_count": 51,
     "metadata": {},
     "output_type": "execute_result"
    },
    {
     "data": {
      "image/png": "[encoded data removed]",
      "text/plain": [
       "<Figure size 640x480 with 1 Axes>"
      ]
     },
     "metadata": {},
     "output_type": "display_data"
    }
   ],
   "source": [
    "df[\"NumberRealEstateLoansOrLines\"].plot(kind=\"box\", grid=True)"
   ]
  },
  {
   "cell_type": "code",
   "execution_count": 52,
   "metadata": {
    "ExecuteTime": {
     "end_time": "2024-09-09T15:21:42.262677Z",
     "start_time": "2024-09-09T15:21:42.116651Z"
    }
   },
   "outputs": [
    {
     "data": {
      "text/plain": [
       "<Axes: >"
      ]
     },
     "execution_count": 52,
     "metadata": {},
     "output_type": "execute_result"
    },
    {
     "data": {
      "image/png": "[encoded data removed]",
      "text/plain": [
       "<Figure size 640x480 with 1 Axes>"
      ]
     },
     "metadata": {},
     "output_type": "display_data"
    }
   ],
   "source": [
    "df.NumberOfDependents.plot.box(grid=True)"
   ]
  },
  {
   "cell_type": "code",
   "execution_count": 53,
   "metadata": {
    "ExecuteTime": {
     "end_time": "2024-09-09T15:21:43.009372Z",
     "start_time": "2024-09-09T15:21:42.964392Z"
    }
   },
   "outputs": [],
   "source": [
    "depNew = []\n",
    "for var in df.NumberOfDependents:\n",
    "    if var > 10:\n",
    "        depNew.append(10)\n",
    "    else:\n",
    "        depNew.append(var)\n",
    "\n",
    "df.NumberOfDependents = depNew"
   ]
  },
  {
   "cell_type": "code",
   "execution_count": 54,
   "metadata": {
    "ExecuteTime": {
     "end_time": "2024-09-09T15:21:43.911444Z",
     "start_time": "2024-09-09T15:21:43.774258Z"
    }
   },
   "outputs": [
    {
     "data": {
      "text/plain": [
       "<Axes: >"
      ]
     },
     "execution_count": 54,
     "metadata": {},
     "output_type": "execute_result"
    },
    {
     "data": {
      "image/png": "[encoded data removed]",
      "text/plain": [
       "<Figure size 640x480 with 1 Axes>"
      ]
     },
     "metadata": {},
     "output_type": "display_data"
    }
   ],
   "source": [
    "df.NumberOfDependents.plot.box(grid=True)"
   ]
  },
  {
   "cell_type": "markdown",
   "metadata": {},
   "source": [
    "### 数据切分\n",
    "    将数据进行切分，分成训练集和测试集两部分"
   ]
  },
  {
   "cell_type": "code",
   "execution_count": 55,
   "metadata": {
    "ExecuteTime": {
     "end_time": "2024-09-09T15:21:47.694595Z",
     "start_time": "2024-09-09T15:21:47.682315Z"
    }
   },
   "outputs": [],
   "source": [
    "from sklearn.model_selection import train_test_split"
   ]
  },
  {
   "cell_type": "code",
   "execution_count": 56,
   "metadata": {
    "ExecuteTime": {
     "end_time": "2024-09-09T18:17:15.059576Z",
     "start_time": "2024-09-09T18:17:14.389169Z"
    }
   },
   "outputs": [],
   "source": [
    "Y = df[\"SeriousDlqin2yrs\"]\n",
    "X = df.iloc[:, 1:]\n",
    "# 测试和训练数据进行3：7的比例进行切分 random_state定一个值是的每次运行的时候不会被随机分\n",
    "X_train, X_test, Y_train, Y_test = train_test_split(X, Y, test_size=0.3, random_state=123)\n",
    "\n",
    "train = pd.concat([Y_train, X_train], axis=1)\n",
    "test = pd.concat([Y_test, X_test], axis=1)\n",
    "\n",
    "train.to_csv('cs-TrainData.csv',index=False)\n",
    "test.to_csv('cs-TestData.csv',index=False)"
   ]
  },
  {
   "cell_type": "markdown",
   "metadata": {},
   "source": [
    "### 探索性数据分析\n",
    "    一般采用直方图、散点图和箱线图等来进行分析"
   ]
  },
  {
   "cell_type": "code",
   "execution_count": 57,
   "metadata": {
    "ExecuteTime": {
     "end_time": "2024-09-09T18:17:27.363832Z",
     "start_time": "2024-09-09T18:17:17.622698Z"
    }
   },
   "outputs": [
    {
     "data": {
      "image/png": "[encoded data removed]",
      "text/plain": [
       "<Figure size 1200x600 with 6 Axes>"
      ]
     },
     "metadata": {},
     "output_type": "display_data"
    }
   ],
   "source": [
    "# 下面利用直方图和核密度估计画图，Age、MonthlyIncome、NumberOfOpenCreditLinesAndLoans大致呈正太分布，符合统计分析\n",
    "\n",
    "fig = plt.figure()\n",
    "fig.set(alpha=0.2)\n",
    "\n",
    "plt.subplot2grid((2, 3), (0, 0))\n",
    "train[\"age\"].plot(kind=\"hist\", bins=30, figsize=(12, 6), grid=True)\n",
    "plt.title(\"Hist of Age\")\n",
    "\n",
    "plt.subplot2grid((2, 3), (0, 1))\n",
    "train[\"age\"].plot(kind=\"kde\", grid=True)\n",
    "plt.title(\"KDE of Age\")\n",
    "\n",
    "plt.subplot2grid((2, 3), (0, 2))\n",
    "train[\"MonthlyIncome\"].plot(kind=\"kde\", grid=True)\n",
    "plt.xlim(-20000, 80000)\n",
    "plt.title(\"KDE of MonthlyIncome\")\n",
    "\n",
    "plt.subplot2grid((2, 3), (1, 0))\n",
    "train[\"NumberOfDependents\"].plot(kind=\"kde\")\n",
    "plt.title(\"KDE of NumberOfDependents\")\n",
    "\n",
    "plt.subplot2grid((2, 3), (1, 1))\n",
    "train[\"NumberOfOpenCreditLinesAndLoans\"].plot(kind=\"kde\")\n",
    "plt.title(\"KDE of NumberOfOpenCreditLinesAndLoans\")\n",
    "\n",
    "plt.subplot2grid((2, 3), (1, 2))\n",
    "train[\"NumberRealEstateLoansOrLines\"].plot(kind=\"kde\")\n",
    "plt.title(\"KDE of NumberRealEstateLoansOrLines\")\n",
    "\n",
    "# 解决中文的显示问题\n",
    "plt.rcParams[\"font.sans-serif\"]=[\"SimHei\"]\n",
    "plt.rcParams[\"axes.unicode_minus\"] = False\n",
    "\n",
    "plt.tight_layout() # 调整子图之间的间距，紧凑显示图像\n",
    "plt.show()"
   ]
  },
  {
   "cell_type": "markdown",
   "metadata": {
    "collapsed": true,
    "jupyter": {
     "outputs_hidden": true
    }
   },
   "source": [
    "### 特征选择\n",
    "    变量分箱：\n",
    "    \n",
    "        将连续变量离散化\n",
    "           \n",
    "        将多状态的离散变量合并成少状态\n",
    "              \n",
    "    变量分箱的重要性：\n",
    "    \n",
    "        1、稳定性：避免特征中无意义的波动对评分带来波动\n",
    "        \n",
    "        2、健壮性：避免极端值的影响\n",
    "        \n",
    "     变量分箱的优势：\n",
    "     \n",
    "         1、可以将缺失值作为一个独立的箱带入模型中\n",
    "         \n",
    "         2、将所有的变量变换到相似的尺度上\n",
    "         \n",
    "     变量分箱的劣势：\n",
    "     \n",
    "         1、计算量大\n",
    "         \n",
    "         2、分箱之后需要编码\n",
    "      \n",
    "     变量分箱常用的方法：\n",
    "     \n",
    "         有监督的：\n",
    "            \n",
    "            1、Best-KS； 2、ChiMerge（卡方分箱法）\n",
    "        \n",
    "         无监督的：\n",
    "            \n",
    "            1、等距； 2、等频； 3、聚类"
   ]
  },
  {
   "cell_type": "code",
   "execution_count": 58,
   "metadata": {
    "ExecuteTime": {
     "end_time": "2024-09-09T18:17:32.300689Z",
     "start_time": "2024-09-09T18:17:32.287677Z"
    }
   },
   "outputs": [],
   "source": [
    "import scipy.stats as stats\n",
    "\n",
    "# 自定义自动分箱函数\n",
    "def mono_bin(Y, X, n=20):\n",
    "    r = 0\n",
    "    good = Y.sum()\n",
    "    bad = Y.count() - good\n",
    "    while np.abs(r) < 1:\n",
    "        d1 = pd.DataFrame({\"X\": X, \"Y\": Y, \"Bucket\": pd.qcut(X.rank(method=\"first\"), n)}) # X.rank(method=\"first\")\n",
    "        d2 = d1.groupby(\"Bucket\", as_index = True)\n",
    "        r, p = stats.spearmanr(d2.mean().X, d2.mean().Y) # 使用斯皮尔曼等级相关系数来评估两个变量之间的相关性\n",
    "        n = n - 1\n",
    "    d3 = pd.DataFrame(d2.X.min(), columns = ['min'])\n",
    "    d3['min']=d2.min().X\n",
    "    d3['max'] = d2.max().X\n",
    "    d3['sum'] = d2.sum().Y\n",
    "    d3['total'] = d2.count().Y\n",
    "    d3['rate'] = d2.mean().Y\n",
    "    d3['woe'] = np.log((d3['rate'] / (1-d3['rate'])) / (good/bad))\n",
    "    d3['goodattribute'] = d3['sum'] / good\n",
    "    d3['badattribute'] = (d3['total'] - d3['sum']) / bad\n",
    "    iv = ((d3['goodattribute'] - d3['badattribute']) * d3['woe']).sum()\n",
    "    d4 = (d3.sort_values(by = 'min'))\n",
    "    print(d4)\n",
    "    cut=[]\n",
    "    cut.append(float('-inf'))\n",
    "    for i in range(1, n+1):\n",
    "        qua = X.quantile(i/(n+1))\n",
    "        cut.append(round(qua,4))\n",
    "    cut.append(float('inf'))\n",
    "    woe = list(d4['woe'].round(3))\n",
    "    return d4, iv, cut, woe"
   ]
  },
  {
   "cell_type": "code",
   "execution_count": 59,
   "metadata": {
    "ExecuteTime": {
     "end_time": "2024-09-09T18:17:33.963137Z",
     "start_time": "2024-09-09T18:17:33.949054Z"
    }
   },
   "outputs": [],
   "source": [
    "# 自定义分箱函数\n",
    "def self_bin(Y, X, cat):\n",
    "    good = Y.sum()\n",
    "    bad = Y.count() - good\n",
    "    d1 = pd.DataFrame({'X': X, 'Y': Y,'Bucket': pd.cut(X, cat)})\n",
    "    d2 = d1.groupby('Bucket', as_index = True)\n",
    "    d3 = pd.DataFrame(d2.X.min(), columns=['min'])\n",
    "    d3['min'] = d2.min().X\n",
    "    d3['max'] = d2.max().X\n",
    "    d3['sum'] = d2.sum().Y\n",
    "    d3['total'] = d2.count().Y\n",
    "    d3['rate'] = d2.mean().Y\n",
    "    d3['woe'] = np.log((d3['rate'] / (1 - d3['rate'])) / (good / bad))\n",
    "    d3['goodattribute'] = d3['sum'] / good\n",
    "    d3['badattribute'] = (d3['total'] - d3['sum']) / bad\n",
    "    iv = ((d3['goodattribute'] - d3['badattribute']) * d3['woe']).sum()\n",
    "    d4 = (d3.sort_values(by = 'min'))\n",
    "    print(d4)\n",
    "    woe = list(d4['woe'].round(3))\n",
    "    return d4, iv, woe"
   ]
  },
  {
   "cell_type": "code",
   "execution_count": 60,
   "metadata": {
    "ExecuteTime": {
     "end_time": "2024-09-09T18:17:34.776758Z",
     "start_time": "2024-09-09T18:17:34.616783Z"
    }
   },
   "outputs": [
    {
     "name": "stdout",
     "output_type": "stream",
     "text": [
      "                          min       max   sum  total      rate       woe  \\\n",
      "Bucket                                                                     \n",
      "(0.999, 25474.0]     0.000000  0.031258   464  25474  0.018215 -1.370448   \n",
      "(25474.0, 50947.0]   0.031260  0.158295   542  25473  0.021277 -1.211902   \n",
      "(50947.0, 76420.0]   0.158306  0.560505  1323  25473  0.051937 -0.287684   \n",
      "(76420.0, 101893.0]  0.560523  2.000000  4607  25473  0.180858  1.106155   \n",
      "\n",
      "                     goodattribute  badattribute  \n",
      "Bucket                                            \n",
      "(0.999, 25474.0]          0.066897      0.263382  \n",
      "(25474.0, 50947.0]        0.078143      0.262550  \n",
      "(50947.0, 76420.0]        0.190744      0.254326  \n",
      "(76420.0, 101893.0]       0.664216      0.219742  \n"
     ]
    },
    {
     "name": "stderr",
     "output_type": "stream",
     "text": [
      "C:\\Users\\Administrator\\AppData\\Local\\Temp\\ipykernel_18692\\1426384454.py:10: FutureWarning: The default of observed=False is deprecated and will be changed to True in a future version of pandas. Pass observed=False to retain current behavior or observed=True to adopt the future default and silence this warning.\n",
      "  d2 = d1.groupby(\"Bucket\", as_index = True)\n",
      "C:\\Users\\Administrator\\AppData\\Local\\Temp\\ipykernel_18692\\1426384454.py:10: FutureWarning: The default of observed=False is deprecated and will be changed to True in a future version of pandas. Pass observed=False to retain current behavior or observed=True to adopt the future default and silence this warning.\n",
      "  d2 = d1.groupby(\"Bucket\", as_index = True)\n",
      "C:\\Users\\Administrator\\AppData\\Local\\Temp\\ipykernel_18692\\1426384454.py:10: FutureWarning: The default of observed=False is deprecated and will be changed to True in a future version of pandas. Pass observed=False to retain current behavior or observed=True to adopt the future default and silence this warning.\n",
      "  d2 = d1.groupby(\"Bucket\", as_index = True)\n",
      "C:\\Users\\Administrator\\AppData\\Local\\Temp\\ipykernel_18692\\1426384454.py:10: FutureWarning: The default of observed=False is deprecated and will be changed to True in a future version of pandas. Pass observed=False to retain current behavior or observed=True to adopt the future default and silence this warning.\n",
      "  d2 = d1.groupby(\"Bucket\", as_index = True)\n",
      "C:\\Users\\Administrator\\AppData\\Local\\Temp\\ipykernel_18692\\1426384454.py:10: FutureWarning: The default of observed=False is deprecated and will be changed to True in a future version of pandas. Pass observed=False to retain current behavior or observed=True to adopt the future default and silence this warning.\n",
      "  d2 = d1.groupby(\"Bucket\", as_index = True)\n",
      "C:\\Users\\Administrator\\AppData\\Local\\Temp\\ipykernel_18692\\1426384454.py:10: FutureWarning: The default of observed=False is deprecated and will be changed to True in a future version of pandas. Pass observed=False to retain current behavior or observed=True to adopt the future default and silence this warning.\n",
      "  d2 = d1.groupby(\"Bucket\", as_index = True)\n",
      "C:\\Users\\Administrator\\AppData\\Local\\Temp\\ipykernel_18692\\1426384454.py:10: FutureWarning: The default of observed=False is deprecated and will be changed to True in a future version of pandas. Pass observed=False to retain current behavior or observed=True to adopt the future default and silence this warning.\n",
      "  d2 = d1.groupby(\"Bucket\", as_index = True)\n"
     ]
    }
   ],
   "source": [
    "dfx1, ivx1, cutx1, woex1 = mono_bin(train.SeriousDlqin2yrs, train.RevolvingUtilizationOfUnsecuredLines, n=10)"
   ]
  },
  {
   "cell_type": "code",
   "execution_count": 61,
   "metadata": {
    "ExecuteTime": {
     "end_time": "2024-09-09T18:17:35.490540Z",
     "start_time": "2024-09-09T18:17:35.463966Z"
    }
   },
   "outputs": [
    {
     "data": {
      "text/plain": [
       "61003     (-0.002, 0.2]\n",
       "26974     (-0.002, 0.2]\n",
       "64962     (-0.002, 0.2]\n",
       "22271        (0.8, 1.0]\n",
       "21614        (0.8, 1.0]\n",
       "              ...      \n",
       "133033       (0.2, 0.4]\n",
       "123509    (-0.002, 0.2]\n",
       "18246     (-0.002, 0.2]\n",
       "28850        (1.6, 1.8]\n",
       "16172     (-0.002, 0.2]\n",
       "Name: RevolvingUtilizationOfUnsecuredLines, Length: 101893, dtype: category\n",
       "Categories (10, interval[float64, right]): [(-0.002, 0.2] < (0.2, 0.4] < (0.4, 0.6] < (0.6, 0.8] ... (1.2, 1.4] < (1.4, 1.6] < (1.6, 1.8] < (1.8, 2.0]]"
      ]
     },
     "execution_count": 61,
     "metadata": {},
     "output_type": "execute_result"
    }
   ],
   "source": [
    "pd.cut(train.RevolvingUtilizationOfUnsecuredLines,10)"
   ]
  },
  {
   "cell_type": "code",
   "execution_count": 62,
   "metadata": {
    "ExecuteTime": {
     "end_time": "2024-09-09T18:17:35.944543Z",
     "start_time": "2024-09-09T18:17:35.930842Z"
    }
   },
   "outputs": [
    {
     "name": "stdout",
     "output_type": "stream",
     "text": [
      "        RevolvingUtilizationOfUnsecuredLines  age  \\\n",
      "0                                   0.766127   45   \n",
      "1                                   0.957151   40   \n",
      "2                                   0.658180   38   \n",
      "3                                   0.233810   30   \n",
      "4                                   0.907239   49   \n",
      "...                                      ...  ...   \n",
      "149995                              0.040674   74   \n",
      "149996                              0.299745   44   \n",
      "149997                              0.246044   58   \n",
      "149998                              0.000000   30   \n",
      "149999                              0.850283   64   \n",
      "\n",
      "        NumberOfTime30-59DaysPastDueNotWorse  DebtRatio  MonthlyIncome  \\\n",
      "0                                        2.0   0.802982         9120.0   \n",
      "1                                        0.0   0.121876         2600.0   \n",
      "2                                        1.0   0.085113         3042.0   \n",
      "3                                        0.0   0.036050         3300.0   \n",
      "4                                        1.0   0.024926        17694.0   \n",
      "...                                      ...        ...            ...   \n",
      "149995                                   0.0   0.225131         2100.0   \n",
      "149996                                   0.0   0.716562         5584.0   \n",
      "149997                                   0.0   1.566521         2554.0   \n",
      "149998                                   0.0   0.000000         5716.0   \n",
      "149999                                   0.0   0.249908         8158.0   \n",
      "\n",
      "        NumberOfOpenCreditLinesAndLoans  NumberOfTimes90DaysLate  \\\n",
      "0                                    13                      0.0   \n",
      "1                                     4                      0.0   \n",
      "2                                     2                      1.0   \n",
      "3                                     5                      0.0   \n",
      "4                                     7                      0.0   \n",
      "...                                 ...                      ...   \n",
      "149995                                4                      0.0   \n",
      "149996                                4                      0.0   \n",
      "149997                               18                      0.0   \n",
      "149998                                4                      0.0   \n",
      "149999                                8                      0.0   \n",
      "\n",
      "        NumberRealEstateLoansOrLines  NumberOfTime60-89DaysPastDueNotWorse  \\\n",
      "0                                  6                                   0.0   \n",
      "1                                  0                                   0.0   \n",
      "2                                  0                                   0.0   \n",
      "3                                  0                                   0.0   \n",
      "4                                  1                                   0.0   \n",
      "...                              ...                                   ...   \n",
      "149995                             1                                   0.0   \n",
      "149996                             1                                   0.0   \n",
      "149997                             1                                   0.0   \n",
      "149998                             0                                   0.0   \n",
      "149999                             2                                   0.0   \n",
      "\n",
      "        NumberOfDependents  \n",
      "0                      2.0  \n",
      "1                      1.0  \n",
      "2                      0.0  \n",
      "3                      0.0  \n",
      "4                      0.0  \n",
      "...                    ...  \n",
      "149995                 0.0  \n",
      "149996                 2.0  \n",
      "149997                 0.0  \n",
      "149998                 0.0  \n",
      "149999                 0.0  \n",
      "\n",
      "[145562 rows x 10 columns]\n"
     ]
    }
   ],
   "source": [
    "print(X)"
   ]
  },
  {
   "cell_type": "code",
   "execution_count": 63,
   "metadata": {
    "ExecuteTime": {
     "end_time": "2024-09-09T18:17:36.802526Z",
     "start_time": "2024-09-09T18:17:36.787712Z"
    }
   },
   "outputs": [],
   "source": [
    "# d1 = pd.DataFrame({\"X\": train.RevolvingUtilizationOfUnsecuredLines, \"Y\": train.SeriousDlqin2yrs, \"Bucket\": pd.qcut(X.rank(method=\"first\"), 10)}) \n"
   ]
  },
  {
   "cell_type": "code",
   "execution_count": 64,
   "metadata": {
    "ExecuteTime": {
     "end_time": "2024-09-09T18:17:38.507707Z",
     "start_time": "2024-09-09T18:17:38.489677Z"
    }
   },
   "outputs": [],
   "source": [
    "# pd.qcut(X.rank(method=\"first\"), 10)"
   ]
  },
  {
   "cell_type": "code",
   "execution_count": 65,
   "metadata": {
    "ExecuteTime": {
     "end_time": "2024-09-09T18:17:39.272800Z",
     "start_time": "2024-09-09T18:17:39.212619Z"
    }
   },
   "outputs": [
    {
     "name": "stderr",
     "output_type": "stream",
     "text": [
      "C:\\Users\\Administrator\\AppData\\Local\\Temp\\ipykernel_18692\\1426384454.py:10: FutureWarning: The default of observed=False is deprecated and will be changed to True in a future version of pandas. Pass observed=False to retain current behavior or observed=True to adopt the future default and silence this warning.\n",
      "  d2 = d1.groupby(\"Bucket\", as_index = True)\n",
      "C:\\Users\\Administrator\\AppData\\Local\\Temp\\ipykernel_18692\\1426384454.py:10: FutureWarning: The default of observed=False is deprecated and will be changed to True in a future version of pandas. Pass observed=False to retain current behavior or observed=True to adopt the future default and silence this warning.\n",
      "  d2 = d1.groupby(\"Bucket\", as_index = True)\n"
     ]
    },
    {
     "name": "stdout",
     "output_type": "stream",
     "text": [
      "                        min  max   sum  total      rate       woe  \\\n",
      "Bucket                                                              \n",
      "(0.999, 11322.333]       21   33  1317  11322  0.116322  0.588970   \n",
      "(11322.333, 22643.667]   33   40  1078  11321  0.095221  0.365212   \n",
      "(22643.667, 33965.0]     40   45   984  11321  0.086918  0.264840   \n",
      "(33965.0, 45286.333]     45   49   934  11322  0.082494  0.207769   \n",
      "(45286.333, 56607.667]   49   54   839  11321  0.074110  0.091495   \n",
      "(56607.667, 67929.0]     54   59   667  11321  0.058917 -0.154202   \n",
      "(67929.0, 79250.333]     59   63   511  11322  0.045133 -0.435251   \n",
      "(79250.333, 90571.667]   63   71   331  11321  0.029238 -0.885924   \n",
      "(90571.667, 101893.0]    71  107   275  11322  0.024289 -1.076444   \n",
      "\n",
      "                        goodattribute  badattribute  \n",
      "Bucket                                               \n",
      "(0.999, 11322.333]           0.189879      0.105363  \n",
      "(11322.333, 22643.667]       0.155421      0.107870  \n",
      "(22643.667, 33965.0]         0.141869      0.108860  \n",
      "(33965.0, 45286.333]         0.134660      0.109397  \n",
      "(45286.333, 56607.667]       0.120963      0.110387  \n",
      "(56607.667, 67929.0]         0.096165      0.112198  \n",
      "(67929.0, 79250.333]         0.073674      0.113852  \n",
      "(79250.333, 90571.667]       0.047722      0.115737  \n",
      "(90571.667, 101893.0]        0.039648      0.116337  \n"
     ]
    }
   ],
   "source": [
    "dfx2, ivx2, cutx2, woex2 = mono_bin(train.SeriousDlqin2yrs, train.age, n=10)"
   ]
  },
  {
   "cell_type": "code",
   "execution_count": 66,
   "metadata": {
    "ExecuteTime": {
     "end_time": "2024-09-09T18:17:40.831378Z",
     "start_time": "2024-09-09T18:17:40.817759Z"
    }
   },
   "outputs": [],
   "source": [
    "pinf = float('inf') # 正无穷大\n",
    "ninf = float('-inf') # 负无穷大"
   ]
  },
  {
   "cell_type": "code",
   "execution_count": 67,
   "metadata": {
    "ExecuteTime": {
     "end_time": "2024-09-09T18:17:41.487987Z",
     "start_time": "2024-09-09T18:17:41.458496Z"
    }
   },
   "outputs": [
    {
     "name": "stdout",
     "output_type": "stream",
     "text": [
      "             min   max   sum  total      rate       woe  goodattribute  \\\n",
      "Bucket                                                                   \n",
      "(-inf, 0.0]  0.0   0.0  3571  85522  0.041755 -0.516577       0.514850   \n",
      "(0.0, 1.0]   1.0   1.0  1694  11086  0.152805  0.903933       0.244233   \n",
      "(1.0, 3.0]   2.0   3.0  1268   4383  0.289300  1.717911       0.182814   \n",
      "(3.0, 5.0]   4.0   5.0   324    744  0.435484  2.357188       0.046713   \n",
      "(5.0, inf]   6.0  13.0    79    158  0.500000  2.616699       0.011390   \n",
      "\n",
      "             badattribute  \n",
      "Bucket                     \n",
      "(-inf, 0.0]      0.863033  \n",
      "(0.0, 1.0]       0.098908  \n",
      "(1.0, 3.0]       0.032804  \n",
      "(3.0, 5.0]       0.004423  \n",
      "(5.0, inf]       0.000832  \n"
     ]
    },
    {
     "name": "stderr",
     "output_type": "stream",
     "text": [
      "C:\\Users\\Administrator\\AppData\\Local\\Temp\\ipykernel_18692\\3233258545.py:6: FutureWarning: The default of observed=False is deprecated and will be changed to True in a future version of pandas. Pass observed=False to retain current behavior or observed=True to adopt the future default and silence this warning.\n",
      "  d2 = d1.groupby('Bucket', as_index = True)\n"
     ]
    }
   ],
   "source": [
    "cutx3 = [ninf, 0, 1, 3, 5, pinf]\n",
    "dfx3, ivx3, woex3 = self_bin(train.SeriousDlqin2yrs, train[\"NumberOfTime30-59DaysPastDueNotWorse\"], cutx3)"
   ]
  },
  {
   "cell_type": "code",
   "execution_count": 68,
   "metadata": {
    "ExecuteTime": {
     "end_time": "2024-09-09T18:17:42.125555Z",
     "start_time": "2024-09-09T18:17:42.095496Z"
    }
   },
   "outputs": [
    {
     "data": {
      "text/plain": [
       "count    145562.000000\n",
       "mean          0.571777\n",
       "std           0.546250\n",
       "min           0.000000\n",
       "25%           0.173933\n",
       "50%           0.359088\n",
       "75%           0.770648\n",
       "max           1.566521\n",
       "Name: DebtRatio, dtype: float64"
      ]
     },
     "execution_count": 68,
     "metadata": {},
     "output_type": "execute_result"
    }
   ],
   "source": [
    "df.DebtRatio.describe()"
   ]
  },
  {
   "cell_type": "code",
   "execution_count": 69,
   "metadata": {
    "ExecuteTime": {
     "end_time": "2024-09-09T18:17:43.353774Z",
     "start_time": "2024-09-09T18:17:42.965562Z"
    }
   },
   "outputs": [
    {
     "name": "stderr",
     "output_type": "stream",
     "text": [
      "C:\\Users\\Administrator\\AppData\\Local\\Temp\\ipykernel_18692\\1426384454.py:10: FutureWarning: The default of observed=False is deprecated and will be changed to True in a future version of pandas. Pass observed=False to retain current behavior or observed=True to adopt the future default and silence this warning.\n",
      "  d2 = d1.groupby(\"Bucket\", as_index = True)\n",
      "C:\\Users\\Administrator\\AppData\\Local\\Temp\\ipykernel_18692\\1426384454.py:10: FutureWarning: The default of observed=False is deprecated and will be changed to True in a future version of pandas. Pass observed=False to retain current behavior or observed=True to adopt the future default and silence this warning.\n",
      "  d2 = d1.groupby(\"Bucket\", as_index = True)\n",
      "C:\\Users\\Administrator\\AppData\\Local\\Temp\\ipykernel_18692\\1426384454.py:10: FutureWarning: The default of observed=False is deprecated and will be changed to True in a future version of pandas. Pass observed=False to retain current behavior or observed=True to adopt the future default and silence this warning.\n",
      "  d2 = d1.groupby(\"Bucket\", as_index = True)\n",
      "C:\\Users\\Administrator\\AppData\\Local\\Temp\\ipykernel_18692\\1426384454.py:10: FutureWarning: The default of observed=False is deprecated and will be changed to True in a future version of pandas. Pass observed=False to retain current behavior or observed=True to adopt the future default and silence this warning.\n",
      "  d2 = d1.groupby(\"Bucket\", as_index = True)\n",
      "C:\\Users\\Administrator\\AppData\\Local\\Temp\\ipykernel_18692\\1426384454.py:10: FutureWarning: The default of observed=False is deprecated and will be changed to True in a future version of pandas. Pass observed=False to retain current behavior or observed=True to adopt the future default and silence this warning.\n",
      "  d2 = d1.groupby(\"Bucket\", as_index = True)\n",
      "C:\\Users\\Administrator\\AppData\\Local\\Temp\\ipykernel_18692\\1426384454.py:10: FutureWarning: The default of observed=False is deprecated and will be changed to True in a future version of pandas. Pass observed=False to retain current behavior or observed=True to adopt the future default and silence this warning.\n",
      "  d2 = d1.groupby(\"Bucket\", as_index = True)\n",
      "C:\\Users\\Administrator\\AppData\\Local\\Temp\\ipykernel_18692\\1426384454.py:10: FutureWarning: The default of observed=False is deprecated and will be changed to True in a future version of pandas. Pass observed=False to retain current behavior or observed=True to adopt the future default and silence this warning.\n",
      "  d2 = d1.groupby(\"Bucket\", as_index = True)\n",
      "C:\\Users\\Administrator\\AppData\\Local\\Temp\\ipykernel_18692\\1426384454.py:10: FutureWarning: The default of observed=False is deprecated and will be changed to True in a future version of pandas. Pass observed=False to retain current behavior or observed=True to adopt the future default and silence this warning.\n",
      "  d2 = d1.groupby(\"Bucket\", as_index = True)\n",
      "C:\\Users\\Administrator\\AppData\\Local\\Temp\\ipykernel_18692\\1426384454.py:10: FutureWarning: The default of observed=False is deprecated and will be changed to True in a future version of pandas. Pass observed=False to retain current behavior or observed=True to adopt the future default and silence this warning.\n",
      "  d2 = d1.groupby(\"Bucket\", as_index = True)\n",
      "C:\\Users\\Administrator\\AppData\\Local\\Temp\\ipykernel_18692\\1426384454.py:10: FutureWarning: The default of observed=False is deprecated and will be changed to True in a future version of pandas. Pass observed=False to retain current behavior or observed=True to adopt the future default and silence this warning.\n",
      "  d2 = d1.groupby(\"Bucket\", as_index = True)\n",
      "C:\\Users\\Administrator\\AppData\\Local\\Temp\\ipykernel_18692\\1426384454.py:10: FutureWarning: The default of observed=False is deprecated and will be changed to True in a future version of pandas. Pass observed=False to retain current behavior or observed=True to adopt the future default and silence this warning.\n",
      "  d2 = d1.groupby(\"Bucket\", as_index = True)\n",
      "C:\\Users\\Administrator\\AppData\\Local\\Temp\\ipykernel_18692\\1426384454.py:10: FutureWarning: The default of observed=False is deprecated and will be changed to True in a future version of pandas. Pass observed=False to retain current behavior or observed=True to adopt the future default and silence this warning.\n",
      "  d2 = d1.groupby(\"Bucket\", as_index = True)\n",
      "C:\\Users\\Administrator\\AppData\\Local\\Temp\\ipykernel_18692\\1426384454.py:10: FutureWarning: The default of observed=False is deprecated and will be changed to True in a future version of pandas. Pass observed=False to retain current behavior or observed=True to adopt the future default and silence this warning.\n",
      "  d2 = d1.groupby(\"Bucket\", as_index = True)\n",
      "C:\\Users\\Administrator\\AppData\\Local\\Temp\\ipykernel_18692\\1426384454.py:10: FutureWarning: The default of observed=False is deprecated and will be changed to True in a future version of pandas. Pass observed=False to retain current behavior or observed=True to adopt the future default and silence this warning.\n",
      "  d2 = d1.groupby(\"Bucket\", as_index = True)\n",
      "C:\\Users\\Administrator\\AppData\\Local\\Temp\\ipykernel_18692\\1426384454.py:10: FutureWarning: The default of observed=False is deprecated and will be changed to True in a future version of pandas. Pass observed=False to retain current behavior or observed=True to adopt the future default and silence this warning.\n",
      "  d2 = d1.groupby(\"Bucket\", as_index = True)\n"
     ]
    },
    {
     "name": "stdout",
     "output_type": "stream",
     "text": [
      "                          min       max   sum  total      rate       woe  \\\n",
      "Bucket                                                                     \n",
      "(0.999, 33965.0]     0.000000  0.235769  2074  33964  0.061065 -0.116114   \n",
      "(33965.0, 67929.0]   0.235771  0.544309  2155  33964  0.063450 -0.075260   \n",
      "(67929.0, 101893.0]  0.544337  1.566521  2707  33965  0.079700  0.170265   \n",
      "\n",
      "                     goodattribute  badattribute  \n",
      "Bucket                                            \n",
      "(0.999, 33965.0]          0.299020      0.335836  \n",
      "(33965.0, 67929.0]        0.310698      0.334983  \n",
      "(67929.0, 101893.0]       0.390283      0.329181  \n"
     ]
    },
    {
     "name": "stderr",
     "output_type": "stream",
     "text": [
      "C:\\Users\\Administrator\\AppData\\Local\\Temp\\ipykernel_18692\\1426384454.py:10: FutureWarning: The default of observed=False is deprecated and will be changed to True in a future version of pandas. Pass observed=False to retain current behavior or observed=True to adopt the future default and silence this warning.\n",
      "  d2 = d1.groupby(\"Bucket\", as_index = True)\n",
      "C:\\Users\\Administrator\\AppData\\Local\\Temp\\ipykernel_18692\\1426384454.py:10: FutureWarning: The default of observed=False is deprecated and will be changed to True in a future version of pandas. Pass observed=False to retain current behavior or observed=True to adopt the future default and silence this warning.\n",
      "  d2 = d1.groupby(\"Bucket\", as_index = True)\n",
      "C:\\Users\\Administrator\\AppData\\Local\\Temp\\ipykernel_18692\\1426384454.py:10: FutureWarning: The default of observed=False is deprecated and will be changed to True in a future version of pandas. Pass observed=False to retain current behavior or observed=True to adopt the future default and silence this warning.\n",
      "  d2 = d1.groupby(\"Bucket\", as_index = True)\n"
     ]
    }
   ],
   "source": [
    "dfx4, ivx4, cutx4, woex4 = mono_bin(train.SeriousDlqin2yrs, train.DebtRatio, n=20)"
   ]
  },
  {
   "cell_type": "code",
   "execution_count": 70,
   "metadata": {
    "ExecuteTime": {
     "end_time": "2024-09-09T18:17:43.990790Z",
     "start_time": "2024-09-09T18:17:43.823608Z"
    }
   },
   "outputs": [
    {
     "name": "stderr",
     "output_type": "stream",
     "text": [
      "C:\\Users\\Administrator\\AppData\\Local\\Temp\\ipykernel_18692\\1426384454.py:10: FutureWarning: The default of observed=False is deprecated and will be changed to True in a future version of pandas. Pass observed=False to retain current behavior or observed=True to adopt the future default and silence this warning.\n",
      "  d2 = d1.groupby(\"Bucket\", as_index = True)\n",
      "C:\\Users\\Administrator\\AppData\\Local\\Temp\\ipykernel_18692\\1426384454.py:10: FutureWarning: The default of observed=False is deprecated and will be changed to True in a future version of pandas. Pass observed=False to retain current behavior or observed=True to adopt the future default and silence this warning.\n",
      "  d2 = d1.groupby(\"Bucket\", as_index = True)\n",
      "C:\\Users\\Administrator\\AppData\\Local\\Temp\\ipykernel_18692\\1426384454.py:10: FutureWarning: The default of observed=False is deprecated and will be changed to True in a future version of pandas. Pass observed=False to retain current behavior or observed=True to adopt the future default and silence this warning.\n",
      "  d2 = d1.groupby(\"Bucket\", as_index = True)\n",
      "C:\\Users\\Administrator\\AppData\\Local\\Temp\\ipykernel_18692\\1426384454.py:10: FutureWarning: The default of observed=False is deprecated and will be changed to True in a future version of pandas. Pass observed=False to retain current behavior or observed=True to adopt the future default and silence this warning.\n",
      "  d2 = d1.groupby(\"Bucket\", as_index = True)\n",
      "C:\\Users\\Administrator\\AppData\\Local\\Temp\\ipykernel_18692\\1426384454.py:10: FutureWarning: The default of observed=False is deprecated and will be changed to True in a future version of pandas. Pass observed=False to retain current behavior or observed=True to adopt the future default and silence this warning.\n",
      "  d2 = d1.groupby(\"Bucket\", as_index = True)\n",
      "C:\\Users\\Administrator\\AppData\\Local\\Temp\\ipykernel_18692\\1426384454.py:10: FutureWarning: The default of observed=False is deprecated and will be changed to True in a future version of pandas. Pass observed=False to retain current behavior or observed=True to adopt the future default and silence this warning.\n",
      "  d2 = d1.groupby(\"Bucket\", as_index = True)\n",
      "C:\\Users\\Administrator\\AppData\\Local\\Temp\\ipykernel_18692\\1426384454.py:10: FutureWarning: The default of observed=False is deprecated and will be changed to True in a future version of pandas. Pass observed=False to retain current behavior or observed=True to adopt the future default and silence this warning.\n",
      "  d2 = d1.groupby(\"Bucket\", as_index = True)\n"
     ]
    },
    {
     "name": "stdout",
     "output_type": "stream",
     "text": [
      "                        min      max   sum  total      rate       woe  \\\n",
      "Bucket                                                                  \n",
      "(0.999, 33965.0]        0.0   3400.0  2747  33964  0.080880  0.186246   \n",
      "(33965.0, 67929.0]   3400.0   6844.0  2553  33964  0.075168  0.106810   \n",
      "(67929.0, 101893.0]  6845.0  17694.0  1636  33965  0.048167 -0.367012   \n",
      "\n",
      "                     goodattribute  badattribute  \n",
      "Bucket                                            \n",
      "(0.999, 33965.0]          0.396050      0.328749  \n",
      "(33965.0, 67929.0]        0.368080      0.330792  \n",
      "(67929.0, 101893.0]       0.235871      0.340459  \n"
     ]
    },
    {
     "name": "stderr",
     "output_type": "stream",
     "text": [
      "C:\\Users\\Administrator\\AppData\\Local\\Temp\\ipykernel_18692\\1426384454.py:10: FutureWarning: The default of observed=False is deprecated and will be changed to True in a future version of pandas. Pass observed=False to retain current behavior or observed=True to adopt the future default and silence this warning.\n",
      "  d2 = d1.groupby(\"Bucket\", as_index = True)\n"
     ]
    }
   ],
   "source": [
    "dfx5, ivx5, cutx5, woex5 = mono_bin(train.SeriousDlqin2yrs, train.MonthlyIncome, n=10)"
   ]
  },
  {
   "cell_type": "code",
   "execution_count": 71,
   "metadata": {
    "ExecuteTime": {
     "end_time": "2024-09-09T18:17:44.551715Z",
     "start_time": "2024-09-09T18:17:44.524192Z"
    }
   },
   "outputs": [
    {
     "name": "stderr",
     "output_type": "stream",
     "text": [
      "C:\\Users\\Administrator\\AppData\\Local\\Temp\\ipykernel_18692\\3233258545.py:6: FutureWarning: The default of observed=False is deprecated and will be changed to True in a future version of pandas. Pass observed=False to retain current behavior or observed=True to adopt the future default and silence this warning.\n",
      "  d2 = d1.groupby('Bucket', as_index = True)\n"
     ]
    },
    {
     "name": "stdout",
     "output_type": "stream",
     "text": [
      "             min  max   sum  total      rate       woe  goodattribute  \\\n",
      "Bucket                                                                  \n",
      "(-inf, 1.0]    0    1   714   3827  0.186569  1.144240       0.102941   \n",
      "(1.0, 2.0]     2    2   410   4343  0.094405  0.355698       0.059112   \n",
      "(2.0, 3.0]     3    3   464   5970  0.077722  0.142990       0.066897   \n",
      "(3.0, 5.0]     4    5  1111  16589  0.066972 -0.017460       0.160179   \n",
      "(5.0, inf]     6   24  4237  71164  0.059539 -0.143048       0.610871   \n",
      "\n",
      "             badattribute  \n",
      "Bucket                     \n",
      "(-inf, 1.0]      0.032783  \n",
      "(1.0, 2.0]       0.041419  \n",
      "(2.0, 3.0]       0.057984  \n",
      "(3.0, 5.0]       0.163000  \n",
      "(5.0, inf]       0.704814  \n"
     ]
    }
   ],
   "source": [
    "cutx6 = [ninf, 1, 2, 3, 5, pinf]\n",
    "dfx6, ivx6, woex6 = self_bin(train.SeriousDlqin2yrs, train.NumberOfOpenCreditLinesAndLoans, cutx6)"
   ]
  },
  {
   "cell_type": "code",
   "execution_count": 72,
   "metadata": {
    "ExecuteTime": {
     "end_time": "2024-09-09T18:17:45.438506Z",
     "start_time": "2024-09-09T18:17:45.409015Z"
    }
   },
   "outputs": [
    {
     "name": "stdout",
     "output_type": "stream",
     "text": [
      "             min   max   sum  total      rate       woe  goodattribute  \\\n",
      "Bucket                                                                   \n",
      "(-inf, 0.0]  0.0   0.0  4656  96308  0.048345 -0.363143       0.671280   \n",
      "(0.0, 1.0]   1.0   1.0  1206   3608  0.334257  1.927706       0.173875   \n",
      "(1.0, 3.0]   2.0   3.0   785   1542  0.509079  2.653019       0.113178   \n",
      "(3.0, inf]   4.0  15.0   289    435  0.664368  3.299519       0.041667   \n",
      "\n",
      "             badattribute  \n",
      "Bucket                     \n",
      "(-inf, 0.0]      0.965195  \n",
      "(0.0, 1.0]       0.025296  \n",
      "(1.0, 3.0]       0.007972  \n",
      "(3.0, inf]       0.001538  \n"
     ]
    },
    {
     "name": "stderr",
     "output_type": "stream",
     "text": [
      "C:\\Users\\Administrator\\AppData\\Local\\Temp\\ipykernel_18692\\3233258545.py:6: FutureWarning: The default of observed=False is deprecated and will be changed to True in a future version of pandas. Pass observed=False to retain current behavior or observed=True to adopt the future default and silence this warning.\n",
      "  d2 = d1.groupby('Bucket', as_index = True)\n"
     ]
    }
   ],
   "source": [
    "cutx7 = [ninf, 0, 1, 3, pinf]\n",
    "dfx7, ivx7, woex7 = self_bin(train.SeriousDlqin2yrs, train[\"NumberOfTimes90DaysLate\"], cutx7)"
   ]
  },
  {
   "cell_type": "code",
   "execution_count": 73,
   "metadata": {
    "ExecuteTime": {
     "end_time": "2024-09-09T18:17:46.450744Z",
     "start_time": "2024-09-09T18:17:46.421653Z"
    }
   },
   "outputs": [
    {
     "name": "stdout",
     "output_type": "stream",
     "text": [
      "             min  max   sum  total      rate       woe  goodattribute  \\\n",
      "Bucket                                                                  \n",
      "(-inf, 0.0]    0    0  3226  37444  0.086155  0.255190       0.465110   \n",
      "(0.0, 1.0]     1    1  1863  35769  0.052084 -0.284705       0.268599   \n",
      "(1.0, 2.0]     2    2  1254  21766  0.057613 -0.177973       0.180796   \n",
      "(2.0, 3.0]     3    3   293   4356  0.067264 -0.012805       0.042243   \n",
      "(3.0, inf]     4   17   300   2558  0.117279  0.598247       0.043253   \n",
      "\n",
      "             badattribute  \n",
      "Bucket                     \n",
      "(-inf, 0.0]      0.360353  \n",
      "(0.0, 1.0]       0.357067  \n",
      "(1.0, 2.0]       0.216014  \n",
      "(2.0, 3.0]       0.042788  \n",
      "(3.0, inf]       0.023779  \n"
     ]
    },
    {
     "name": "stderr",
     "output_type": "stream",
     "text": [
      "C:\\Users\\Administrator\\AppData\\Local\\Temp\\ipykernel_18692\\3233258545.py:6: FutureWarning: The default of observed=False is deprecated and will be changed to True in a future version of pandas. Pass observed=False to retain current behavior or observed=True to adopt the future default and silence this warning.\n",
      "  d2 = d1.groupby('Bucket', as_index = True)\n"
     ]
    }
   ],
   "source": [
    "cutx8 = [ninf, 0, 1, 2, 3, pinf]\n",
    "dfx8, ivx8, woex8 = self_bin(train.SeriousDlqin2yrs, train[\"NumberRealEstateLoansOrLines\"], cutx8)"
   ]
  },
  {
   "cell_type": "code",
   "execution_count": 74,
   "metadata": {
    "ExecuteTime": {
     "end_time": "2024-09-09T18:17:47.152530Z",
     "start_time": "2024-09-09T18:17:47.124419Z"
    }
   },
   "outputs": [
    {
     "name": "stdout",
     "output_type": "stream",
     "text": [
      "             min   max   sum  total      rate       woe  goodattribute  \\\n",
      "Bucket                                                                   \n",
      "(-inf, 0.0]  0.0   0.0  5107  96788  0.052765 -0.271004       0.736303   \n",
      "(0.0, 1.0]   1.0   1.0  1243   4000  0.310750  1.820084       0.179210   \n",
      "(1.0, 3.0]   2.0   3.0   517    994  0.520121  2.697225       0.074539   \n",
      "(3.0, inf]   4.0  11.0    69    111  0.621622  3.113136       0.009948   \n",
      "\n",
      "             badattribute  \n",
      "Bucket                     \n",
      "(-inf, 0.0]      0.965500  \n",
      "(0.0, 1.0]       0.029034  \n",
      "(1.0, 3.0]       0.005023  \n",
      "(3.0, inf]       0.000442  \n"
     ]
    },
    {
     "name": "stderr",
     "output_type": "stream",
     "text": [
      "C:\\Users\\Administrator\\AppData\\Local\\Temp\\ipykernel_18692\\3233258545.py:6: FutureWarning: The default of observed=False is deprecated and will be changed to True in a future version of pandas. Pass observed=False to retain current behavior or observed=True to adopt the future default and silence this warning.\n",
      "  d2 = d1.groupby('Bucket', as_index = True)\n"
     ]
    }
   ],
   "source": [
    "cutx9 = [ninf, 0, 1, 3, pinf]\n",
    "dfx9, ivx9, woex9 = self_bin(train.SeriousDlqin2yrs, train[\"NumberOfTime60-89DaysPastDueNotWorse\"], cutx9)"
   ]
  },
  {
   "cell_type": "code",
   "execution_count": 75,
   "metadata": {
    "ExecuteTime": {
     "end_time": "2024-09-09T18:17:47.929564Z",
     "start_time": "2024-09-09T18:17:47.899848Z"
    }
   },
   "outputs": [
    {
     "name": "stdout",
     "output_type": "stream",
     "text": [
      "             min   max   sum  total      rate       woe  goodattribute  \\\n",
      "Bucket                                                                   \n",
      "(-inf, 0.0]  0.0   0.0  3579  60340  0.059314 -0.147067       0.516003   \n",
      "(0.0, 1.0]   1.0   1.0  1344  18421  0.072960  0.074617       0.193772   \n",
      "(1.0, 2.0]   2.0   2.0  1125  13668  0.082309  0.205319       0.162197   \n",
      "(2.0, inf]   3.0  10.0   888   9464  0.093829  0.348948       0.128028   \n",
      "\n",
      "             badattribute  \n",
      "Bucket                     \n",
      "(-inf, 0.0]      0.597755  \n",
      "(0.0, 1.0]       0.179839  \n",
      "(1.0, 2.0]       0.132091  \n",
      "(2.0, inf]       0.090315  \n"
     ]
    },
    {
     "name": "stderr",
     "output_type": "stream",
     "text": [
      "C:\\Users\\Administrator\\AppData\\Local\\Temp\\ipykernel_18692\\3233258545.py:6: FutureWarning: The default of observed=False is deprecated and will be changed to True in a future version of pandas. Pass observed=False to retain current behavior or observed=True to adopt the future default and silence this warning.\n",
      "  d2 = d1.groupby('Bucket', as_index = True)\n"
     ]
    }
   ],
   "source": [
    "cutx10 = [ninf, 0, 1, 2, pinf]\n",
    "dfx10, ivx10, woex10 = self_bin(train.SeriousDlqin2yrs, train[\"NumberOfDependents\"], cutx10)"
   ]
  },
  {
   "cell_type": "markdown",
   "metadata": {},
   "source": [
    "### 相关性分析和IV筛选"
   ]
  },
  {
   "cell_type": "code",
   "execution_count": 76,
   "metadata": {
    "ExecuteTime": {
     "end_time": "2024-09-09T18:17:55.404868Z",
     "start_time": "2024-09-09T18:17:54.349052Z"
    }
   },
   "outputs": [
    {
     "data": {
      "image/png": "[encoded data removed]",
      "text/plain": [
       "<Figure size 1000x1000 with 2 Axes>"
      ]
     },
     "metadata": {},
     "output_type": "display_data"
    }
   ],
   "source": [
    "corr = train.corr() # 计算各变量的相关性系数\n",
    "xticks = ['x0','x1','x2','x3','x4','x5','x6','x7','x8','x9','x10'] # x轴标签\n",
    "yticks = list(corr.index) # y轴标签\n",
    "fig = plt.figure(figsize=(10, 10))\n",
    "ax = fig.add_subplot(1, 1, 1)\n",
    "sns.heatmap(corr, annot=True, cmap='rainbow', ax=ax,\n",
    "            annot_kws={'size': 12, 'weight': 'bold', 'color': 'blue'}) # 绘制相关性系数热力图\n",
    "ax.set_xticklabels(xticks, rotation=0, fontsize=12)\n",
    "ax.set_yticklabels(yticks, rotation=0, fontsize=12)\n",
    "plt.show()"
   ]
  },
  {
   "cell_type": "markdown",
   "metadata": {},
   "source": [
    "### 上图可以看出变量之间的相关性都较小，但是 NumberOfOpenCreditLinesAndLoans 和 NumberRealEstateLoansOrLines 相对来说较大为0.43"
   ]
  },
  {
   "cell_type": "code",
   "execution_count": 77,
   "metadata": {
    "ExecuteTime": {
     "end_time": "2024-09-09T18:18:01.537637Z",
     "start_time": "2024-09-09T18:18:01.383262Z"
    }
   },
   "outputs": [
    {
     "data": {
      "image/png": "[encoded data removed]",
      "text/plain": [
       "<Figure size 800x800 with 1 Axes>"
      ]
     },
     "metadata": {},
     "output_type": "display_data"
    }
   ],
   "source": [
    "ivlist = [ivx1, ivx2, ivx3, ivx4, ivx5, ivx6, ivx7, ivx8, ivx9, ivx10] # 各变量IV\n",
    "index = ['x1','x2','x3','x4','x5','x6','x7','x8','x9','x10'] # x轴的标签\n",
    "fig1 = plt.figure(figsize=(8, 8))\n",
    "ax1 = fig1.add_subplot(1, 1, 1)\n",
    "x = np.arange(len(index)) + 1\n",
    "ax1.bar(x, ivlist, width=0.4) # 生成柱状图\n",
    "ax1.set_xticks(x)\n",
    "ax1.set_xticklabels(index, rotation=0, fontsize=12)\n",
    "ax1.set_ylabel('IV(Information Value)', fontsize=12)\n",
    "# 在柱状图上添加数字标签\n",
    "for a, b in zip(x, ivlist):\n",
    "    plt.text(a, b + 0.01, '%.4f' % b, ha='center', va='bottom', fontsize=10)\n",
    "plt.show()"
   ]
  },
  {
   "cell_type": "markdown",
   "metadata": {
    "collapsed": true,
    "jupyter": {
     "outputs_hidden": true
    }
   },
   "source": [
    "通过IV值判断变量预测能力的标准是：\n",
    "\n",
    "**< 0.02: unpredictive**\n",
    "\n",
    "**0.02 to 0.1: weak**\n",
    "\n",
    "**0.1 to 0.3: medium**\n",
    "\n",
    "**0.3 to 0.5: strong**\n",
    "\n",
    "**> 0.5: suspicious**\n",
    "\n",
    "DebtRatio、MonthlyIncome、NumberRealEstateLoansOrLines 和 NumberOfDependents 变量的IV值明显较低"
   ]
  },
  {
   "cell_type": "markdown",
   "metadata": {},
   "source": [
    "### 模型分析\n",
    "    WOE转换:\n",
    "        证据权重（Weight of Evidence,WOE）转换可以将Logistic回归模型转变为标准评分卡格式"
   ]
  },
  {
   "cell_type": "code",
   "execution_count": 78,
   "metadata": {
    "ExecuteTime": {
     "end_time": "2024-09-09T18:18:03.533484Z",
     "start_time": "2024-09-09T18:18:03.519879Z"
    }
   },
   "outputs": [],
   "source": [
    "# 替换成woe函数\n",
    "def replace_woe(series, cut, woe):\n",
    "    list = []\n",
    "    i = 0\n",
    "    while i < len(series):\n",
    "        value = series[i]\n",
    "        j = len(cut)-2\n",
    "        m = len(cut)-2\n",
    "        while j >= 0:\n",
    "            if value >= cut[j]:\n",
    "                j = -1\n",
    "            else:\n",
    "                j -= 1\n",
    "                m -= 1\n",
    "        list.append(woe[m])\n",
    "        i += 1\n",
    "    return list"
   ]
  },
  {
   "cell_type": "code",
   "execution_count": 79,
   "metadata": {
    "ExecuteTime": {
     "end_time": "2024-09-09T18:18:08.502684Z",
     "start_time": "2024-09-09T18:18:04.896509Z"
    }
   },
   "outputs": [],
   "source": [
    "from pandas import Series\n",
    "train = pd.read_csv(\"cs-TrainData.csv\")\n",
    "train['RevolvingUtilizationOfUnsecuredLines'] = Series(replace_woe(train['RevolvingUtilizationOfUnsecuredLines'], cutx1, woex1))\n",
    "train['age'] = Series(replace_woe(train['age'], cutx2, woex2))\n",
    "train['NumberOfTime30-59DaysPastDueNotWorse'] = Series(replace_woe(train['NumberOfTime30-59DaysPastDueNotWorse'], cutx3, woex3))\n",
    "train['DebtRatio'] = Series(replace_woe(train['DebtRatio'], cutx4, woex4))\n",
    "train['MonthlyIncome'] = Series(replace_woe(train['MonthlyIncome'], cutx5, woex5))\n",
    "train['NumberOfOpenCreditLinesAndLoans'] = Series(replace_woe(train['NumberOfOpenCreditLinesAndLoans'], cutx6, woex6))\n",
    "train['NumberOfTimes90DaysLate'] = Series(replace_woe(train['NumberOfTimes90DaysLate'], cutx7, woex7))\n",
    "train['NumberRealEstateLoansOrLines'] = Series(replace_woe(train['NumberRealEstateLoansOrLines'], cutx8, woex8))\n",
    "train['NumberOfTime60-89DaysPastDueNotWorse'] = Series(replace_woe(train['NumberOfTime60-89DaysPastDueNotWorse'], cutx9, woex9))\n",
    "train['NumberOfDependents'] = Series(replace_woe(train['NumberOfDependents'], cutx10, woex10))\n",
    "train.to_csv('cs-Woetrain.csv', index=False)"
   ]
  },
  {
   "cell_type": "code",
   "execution_count": 80,
   "metadata": {
    "ExecuteTime": {
     "end_time": "2024-09-09T18:19:13.164170Z",
     "start_time": "2024-09-09T18:19:11.879775Z"
    }
   },
   "outputs": [],
   "source": [
    "test = pd.read_csv('cs-TestData.csv')\n",
    "# 替换成woe\n",
    "test['RevolvingUtilizationOfUnsecuredLines'] = Series(replace_woe(test['RevolvingUtilizationOfUnsecuredLines'], cutx1, woex1))\n",
    "test['age'] = Series(replace_woe(test['age'], cutx2, woex2))\n",
    "test['NumberOfTime30-59DaysPastDueNotWorse'] = Series(replace_woe(test['NumberOfTime30-59DaysPastDueNotWorse'], cutx3, woex3))\n",
    "test['DebtRatio'] = Series(replace_woe(test['DebtRatio'], cutx4, woex4))\n",
    "test['MonthlyIncome'] = Series(replace_woe(test['MonthlyIncome'], cutx5, woex5))\n",
    "test['NumberOfOpenCreditLinesAndLoans'] = Series(replace_woe(test['NumberOfOpenCreditLinesAndLoans'], cutx6, woex6))\n",
    "test['NumberOfTimes90DaysLate'] = Series(replace_woe(test['NumberOfTimes90DaysLate'], cutx7, woex7))\n",
    "test['NumberRealEstateLoansOrLines'] = Series(replace_woe(test['NumberRealEstateLoansOrLines'], cutx8, woex8))\n",
    "test['NumberOfTime60-89DaysPastDueNotWorse'] = Series(replace_woe(test['NumberOfTime60-89DaysPastDueNotWorse'], cutx9, woex9))\n",
    "test['NumberOfDependents'] = Series(replace_woe(test['NumberOfDependents'], cutx10, woex10))\n",
    "test.to_csv('cs-TestWoeData.csv', index=False)"
   ]
  },
  {
   "cell_type": "markdown",
   "metadata": {},
   "source": [
    "### 模型预测"
   ]
  },
  {
   "cell_type": "code",
   "execution_count": 81,
   "metadata": {
    "ExecuteTime": {
     "end_time": "2024-09-09T18:19:15.048481Z",
     "start_time": "2024-09-09T18:19:15.035441Z"
    }
   },
   "outputs": [],
   "source": [
    "from sklearn.model_selection import cross_val_score\n",
    "\n",
    "def cvDictGen(functions, scr, X_train, Y_train, cv=10, verbose=1):\n",
    "    cvDict = {}\n",
    "    for func in functions:\n",
    "        try:\n",
    "            # 确保在使用分类得分，而非基于概率的roc_auc\n",
    "            cvScore = cross_val_score(func, X_train, Y_train, cv=cv, verbose=verbose, scoring=scr)\n",
    "            cvDict[str(func).split('(')[0]] = [cvScore.mean(), cvScore.std()]\n",
    "        except Exception as e:\n",
    "            print(f\"Error with model {str(func).split('(')[0]}: {e}\")\n",
    "    \n",
    "    return cvDict\n",
    "\n",
    "def cvDictNormalize(cvDict):\n",
    "    cvDictNormalized = {}\n",
    "    for key in cvDict.keys():\n",
    "        for i in cvDict[key]:\n",
    "            cvDictNormalized[key] = ['{:0.2f}'.format((cvDict[key][0]/cvDict[list(cvDict.keys())[0]][0])),\n",
    "                                     '{:0.2f}'.format((cvDict[key][1]/cvDict[list(cvDict.keys())[0]][1]))]\n",
    "    return cvDictNormalized"
   ]
  },
  {
   "cell_type": "code",
   "execution_count": 82,
   "metadata": {
    "ExecuteTime": {
     "end_time": "2024-09-09T18:19:15.812646Z",
     "start_time": "2024-09-09T18:19:15.799160Z"
    }
   },
   "outputs": [],
   "source": [
    "from sklearn.linear_model import LogisticRegression\n",
    "from sklearn.ensemble import AdaBoostClassifier, GradientBoostingClassifier, RandomForestClassifier\n",
    "from sklearn.neighbors import KNeighborsClassifier"
   ]
  },
  {
   "cell_type": "code",
   "execution_count": 83,
   "metadata": {
    "ExecuteTime": {
     "end_time": "2024-09-09T18:19:16.247721Z",
     "start_time": "2024-09-09T18:19:16.233704Z"
    }
   },
   "outputs": [],
   "source": [
    "knMod = KNeighborsClassifier(n_neighbors=5, weights='distance', algorithm='auto', leaf_size=30, p=3,\n",
    "                             metric='minkowski', metric_params=None)"
   ]
  },
  {
   "cell_type": "code",
   "execution_count": 84,
   "metadata": {
    "ExecuteTime": {
     "end_time": "2024-09-09T18:19:16.842753Z",
     "start_time": "2024-09-09T18:19:16.831725Z"
    }
   },
   "outputs": [],
   "source": [
    "lrMod = LogisticRegression(penalty='l1', dual=False, tol=0.0001, C=1.0, fit_intercept=True,\n",
    "                            intercept_scaling=1, class_weight=\"balanced\", random_state=None, solver='liblinear', max_iter=100,\n",
    "                            multi_class='ovr', verbose=2)"
   ]
  },
  {
   "cell_type": "code",
   "execution_count": 85,
   "metadata": {
    "ExecuteTime": {
     "end_time": "2024-09-09T18:19:18.782586Z",
     "start_time": "2024-09-09T18:19:18.769027Z"
    }
   },
   "outputs": [
    {
     "ename": "TypeError",
     "evalue": "AdaBoostClassifier.__init__() got an unexpected keyword argument 'base_estimator'",
     "output_type": "error",
     "traceback": [
      "\u001b[1;31m---------------------------------------------------------------------------\u001b[0m",
      "\u001b[1;31mTypeError\u001b[0m                                 Traceback (most recent call last)",
      "Cell \u001b[1;32mIn[85], line 1\u001b[0m\n\u001b[1;32m----> 1\u001b[0m adaMod \u001b[38;5;241m=\u001b[39m AdaBoostClassifier(base_estimator\u001b[38;5;241m=\u001b[39m\u001b[38;5;28;01mNone\u001b[39;00m, n_estimators\u001b[38;5;241m=\u001b[39m\u001b[38;5;241m200\u001b[39m, learning_rate\u001b[38;5;241m=\u001b[39m\u001b[38;5;241m1.0\u001b[39m)\n",
      "\u001b[1;31mTypeError\u001b[0m: AdaBoostClassifier.__init__() got an unexpected keyword argument 'base_estimator'"
     ]
    }
   ],
   "source": [
    "adaMod = AdaBoostClassifier(base_estimator=None, n_estimators=200, learning_rate=1.0)"
   ]
  },
  {
   "cell_type": "code",
   "execution_count": null,
   "metadata": {
    "ExecuteTime": {
     "end_time": "2024-09-09T18:19:19.064516Z",
     "start_time": "2024-09-09T18:19:19.050911Z"
    }
   },
   "outputs": [],
   "source": [
    "gbMod = GradientBoostingClassifier(loss='log_loss', learning_rate=0.1, n_estimators=200, subsample=1.0,\n",
    "                                   min_samples_split=2, min_samples_leaf=1, min_weight_fraction_leaf=0.0, max_depth=3,\n",
    "                                   init=None, random_state=None, max_features=None, verbose=0)"
   ]
  },
  {
   "cell_type": "code",
   "execution_count": null,
   "metadata": {
    "ExecuteTime": {
     "end_time": "2024-09-09T18:19:19.439542Z",
     "start_time": "2024-09-09T18:19:19.424526Z"
    }
   },
   "outputs": [],
   "source": [
    "rfMod = RandomForestClassifier(n_estimators=10, criterion='gini', max_depth=20, min_samples_split=2,\n",
    "                               min_samples_leaf=1, min_weight_fraction_leaf=0.0, max_features=None,\n",
    "                               max_leaf_nodes=None, bootstrap=True, oob_score=False, n_jobs=1, random_state=None, verbose=0)"
   ]
  },
  {
   "cell_type": "code",
   "execution_count": null,
   "metadata": {
    "ExecuteTime": {
     "end_time": "2024-09-09T18:19:20.218716Z",
     "start_time": "2024-09-09T18:19:20.174531Z"
    }
   },
   "outputs": [],
   "source": [
    "print(X_train.isnull().sum())\n",
    "print(Y_train.isnull().sum())\n",
    "print(X_train.nunique())\n",
    "print(Y_train.value_counts())\n",
    "print(set(Y_train))"
   ]
  },
  {
   "cell_type": "code",
   "execution_count": null,
   "metadata": {
    "ExecuteTime": {
     "end_time": "2024-09-09T18:38:02.257741Z",
     "start_time": "2024-09-09T18:29:07.673483Z"
    }
   },
   "outputs": [],
   "source": [
    "cvD = cvDictGen(functions=[knMod, lrMod, adaMod, gbMod, rfMod], scr='roc_auc', X_train=X_train, Y_train=Y_train)"
   ]
  },
  {
   "cell_type": "code",
   "execution_count": null,
   "metadata": {
    "ExecuteTime": {
     "end_time": "2024-09-09T18:38:40.065782Z",
     "start_time": "2024-09-09T18:38:40.048284Z"
    }
   },
   "outputs": [],
   "source": [
    "cvD # 采用auc"
   ]
  },
  {
   "cell_type": "markdown",
   "metadata": {},
   "source": [
    "# 采用accuracy评分标准\n",
    "{'KNeighborsClassifier': [0.9284445366286702, 0.0010733279828027222],\n",
    " 'LogisticRegression': [0.8017234416726999, 0.0035193294166788306],\n",
    " 'AdaBoostClassifier': [0.9344213828706149, 0.002211681954126096],\n",
    " 'GradientBoostingClassifier': [0.9353341165032889, 0.0022466087863914973],\n",
    " 'RandomForestClassifier': [0.9294357535609368, 0.0009804186898620534]}"
   ]
  },
  {
   "cell_type": "code",
   "execution_count": null,
   "metadata": {},
   "outputs": [],
   "source": [
    "# 不论何种评分,排序均相同"
   ]
  },
  {
   "cell_type": "code",
   "execution_count": null,
   "metadata": {
    "ExecuteTime": {
     "end_time": "2024-09-09T18:41:37.891505Z",
     "start_time": "2024-09-09T18:41:37.876463Z"
    }
   },
   "outputs": [],
   "source": [
    "cvDictNormalize(cvD)"
   ]
  },
  {
   "cell_type": "markdown",
   "metadata": {},
   "source": [
    "AdaBoost 、 GB 、 LR的out-of-the-bag较好"
   ]
  },
  {
   "cell_type": "markdown",
   "metadata": {},
   "source": [
    "### 最优化超参数"
   ]
  },
  {
   "cell_type": "markdown",
   "metadata": {},
   "source": [
    "AdaBoost模型"
   ]
  },
  {
   "cell_type": "code",
   "execution_count": null,
   "metadata": {
    "ExecuteTime": {
     "end_time": "2024-09-09T18:41:43.129264Z",
     "start_time": "2024-09-09T18:41:43.114730Z"
    }
   },
   "outputs": [],
   "source": [
    "from sklearn.model_selection import RandomizedSearchCV"
   ]
  },
  {
   "cell_type": "code",
   "execution_count": null,
   "metadata": {
    "ExecuteTime": {
     "end_time": "2024-09-09T18:41:43.672197Z",
     "start_time": "2024-09-09T18:41:43.658380Z"
    }
   },
   "outputs": [],
   "source": [
    "ada_param = {'n_estimators': [10,50,100,200,400],\n",
    "                 'learning_rate': [0.1, 0.05]}"
   ]
  },
  {
   "cell_type": "code",
   "execution_count": null,
   "metadata": {
    "ExecuteTime": {
     "end_time": "2024-09-09T18:46:41.294122Z",
     "start_time": "2024-09-09T18:41:44.183086Z"
    }
   },
   "outputs": [],
   "source": [
    "randomizedSearchAda = RandomizedSearchCV(estimator=adaMod, param_distributions=ada_param, n_iter=5,\n",
    "                                   scoring='roc_auc', cv=None, verbose=2).fit(X_train, Y_train)"
   ]
  },
  {
   "cell_type": "code",
   "execution_count": null,
   "metadata": {
    "ExecuteTime": {
     "end_time": "2024-09-09T19:00:45.477468Z",
     "start_time": "2024-09-09T19:00:45.463965Z"
    }
   },
   "outputs": [],
   "source": [
    "randomizedSearchAda.best_params_, randomizedSearchAda.best_score_"
   ]
  },
  {
   "cell_type": "markdown",
   "metadata": {},
   "source": [
    "GB模型"
   ]
  },
  {
   "cell_type": "code",
   "execution_count": null,
   "metadata": {
    "ExecuteTime": {
     "end_time": "2024-09-09T18:47:36.563639Z",
     "start_time": "2024-09-09T18:47:36.550613Z"
    }
   },
   "outputs": [],
   "source": [
    "gbParams = {'loss' : ['log_loss', 'exponential'],\n",
    "            'n_estimators': [50,100,150,200],\n",
    "            'max_depth': [1,2,3,4,5],\n",
    "            'learning_rate':[0.1, 0.05,0.2]}"
   ]
  },
  {
   "cell_type": "code",
   "execution_count": null,
   "metadata": {
    "ExecuteTime": {
     "end_time": "2024-09-09T19:00:45.461458Z",
     "start_time": "2024-09-09T18:47:38.857876Z"
    }
   },
   "outputs": [],
   "source": [
    "randomizedSearchGB = RandomizedSearchCV(estimator=gbMod, param_distributions=gbParams, n_iter=10,\n",
    "                                   scoring='roc_auc', cv=None, verbose=2).fit(X_train, Y_train)"
   ]
  },
  {
   "cell_type": "markdown",
   "metadata": {},
   "source": [
    "\n",
    "### 1. **训练时间的差异**\n",
    "- 训练不同参数组合的模型所花费的时间有较大差异。比如，`n_estimators=200` 和 `max_depth=3` 的组合耗时大约 28.7 秒，而较低 `n_estimators` 的组合耗时更短，像 `n_estimators=50` 时耗时约 9.5 秒。\n",
    "- 对于 `max_depth=1` 和 `n_estimators=100` 的组合，训练时间显著缩短到 5 秒。\n",
    "- 训练时间主要受 `max_depth` 和 `n_estimators` 影响，较深的树和较大的 `n_estimators` 都会增加模型训练时间。\n",
    "\n",
    "\n",
    "### 2. **学习率的影响**\n",
    "- 你尝试了 `learning_rate=0.2` 和 `learning_rate=0.1` 以及 `learning_rate=0.05`。根据学习率不同，训练时间没有显著差异，这说明对于你的数据集，学习率主要影响的是模型的更新速率，而非训练速度。\n",
    "\n",
    "**建议：**\n",
    "- 当前 `learning_rate=0.1` 和 `0.2` 表现不错，`0.05` 也有尝试，但可能对模型的收敛速度会有一定影响。可以根据交叉验证的结果判断，适当选择较为合适的学习率。\n",
    "\n",
    "### 3. **模型类型的选择**\n",
    "- 使用了不同的 `loss` 函数组合：`log_loss` 和 `exponential`。不同的损失函数的组合对模型的性能可能会有不同的影响。\n",
    "\n",
    "**建议：**\n",
    "- 根据最终结果，可以选择表现较好的损失函数并在该基础上进行进一步的参数微调。\n",
    "\n",
    "### 4. **训练过程中的超参数值范围**\n",
    "- 使用了 `n_estimators` 从 50 到 200，`max_depth` 从 1 到 4。可以看到较大的 `n_estimators`（如 150 和 200）和适中的 `max_depth`（如 3 或 4）花费的时间都较长，但这是在较深模型下的预期表现。\n",
    "  \n",
    "- 如果需要更快的训练过程，可以考虑：\n",
    "  - 将 `max_depth` 限制在较小范围内，例如 1 到 3。\n",
    "  - `n_estimators` 限制在 100~200 的范围内，这样可能足以取得不错的结果，同时不会大幅增加训练时间。\n",
    "\n",
    "### 5. **交叉验证折数（CV）的影响**\n",
    "- 输出表明使用了 5 折交叉验证（CV=5），每个参数组合都经过了多次交叉验证。这会在一定程度上延长训练时间。\n",
    "\n",
    "**建议：**\n",
    "- 如果训练时间过长，可以在调参阶段使用 3 折交叉验证（CV=3）来节省计算资源，然后在最终的模型确定阶段使用 5 折或更多折数进行评估。\n",
    "\n",
    "### 6. **进一步的优化建议**\n",
    "- `max_depth=3` 和 `learning_rate=0.2` 看起来是一个合适的参数组合。可以进一步结合模型性能（如 AUC 或其他评分）来确定是否需要微调 `n_estimators` 或其他超参数。\n",
    "- 同时也可以考虑是否需要增加 `subsample` 和 `min_samples_split` 等超参数的调优，以防止模型过拟合。\n",
    "\n",
    "### 7. **下一步操作**\n",
    "- 查看 `randomizedSearchGB.best_params_` 和 `randomizedSearchGB.best_score_`，根据输出的最佳参数确定接下来的调整方向。\n",
    "- 根据当前运行时间和模型表现，在最终模型训练时考虑资源分配，如是否增加计算资源或优化训练流程。"
   ]
  },
  {
   "cell_type": "code",
   "execution_count": null,
   "metadata": {
    "ExecuteTime": {
     "end_time": "2024-09-09T19:02:40.423221Z",
     "start_time": "2024-09-09T19:02:40.409050Z"
    }
   },
   "outputs": [],
   "source": [
    "randomizedSearchGB.best_params_, randomizedSearchGB.best_score_"
   ]
  },
  {
   "cell_type": "code",
   "execution_count": null,
   "metadata": {
    "ExecuteTime": {
     "end_time": "2024-09-09T19:03:19.698560Z",
     "start_time": "2024-09-09T19:02:53.942293Z"
    }
   },
   "outputs": [],
   "source": [
    "bestGbModFitted = randomizedSearchGB.best_estimator_.fit(X_train, Y_train)"
   ]
  },
  {
   "cell_type": "code",
   "execution_count": null,
   "metadata": {
    "ExecuteTime": {
     "end_time": "2024-09-09T18:03:59.407989Z",
     "start_time": "2024-09-09T18:03:43.991164Z"
    }
   },
   "outputs": [],
   "source": [
    "bestAdaModFitted = randomizedSearchAda.best_estimator_.fit(X_train, Y_train)"
   ]
  },
  {
   "cell_type": "code",
   "execution_count": null,
   "metadata": {
    "ExecuteTime": {
     "end_time": "2024-09-09T18:12:04.604443Z",
     "start_time": "2024-09-09T18:04:04.084106Z"
    }
   },
   "outputs": [],
   "source": [
    "cvDictHPO = cvDictGen(functions=[bestGbModFitted, bestAdaModFitted], scr='roc_auc',X_train=X_train, Y_train=Y_train)"
   ]
  },
  {
   "cell_type": "code",
   "execution_count": null,
   "metadata": {
    "ExecuteTime": {
     "end_time": "2024-09-10T07:03:45.653035Z",
     "start_time": "2024-09-10T07:03:45.645037Z"
    }
   },
   "outputs": [],
   "source": [
    "cvDictNormalize(cvDictHPO)"
   ]
  },
  {
   "cell_type": "code",
   "execution_count": null,
   "metadata": {
    "ExecuteTime": {
     "end_time": "2024-09-09T19:10:48.629236Z",
     "start_time": "2024-09-09T19:10:48.617223Z"
    }
   },
   "outputs": [],
   "source": [
    "# def plotCvRocCurve(X, y, classifier, nsplits=5):\n",
    "# \n",
    "#     from sklearn.metrics import roc_curve, auc\n",
    "#     from sklearn.model_selection import StratifiedKFold\n",
    "#     import matplotlib.pyplot as plt\n",
    "#     from scipy import interp\n",
    "# \n",
    "#     cv = StratifiedKFold(n_splits=nsplits)\n",
    "# \n",
    "#     mean_tpr = 0.0\n",
    "#     mean_fpr = np.linspace(0, 1, 100)\n",
    "#     all_tpr = []\n",
    "# \n",
    "#     for i, (train, test) in enumerate(cv):\n",
    "#         probas_ = classifier.fit(X.iloc[train], y.iloc[train]).predict_proba(X.iloc[test])\n",
    "# \n",
    "#         fpr, tpr, thresholds = roc_curve(y.iloc[test], probas_[:, 1])\n",
    "#         mean_tpr += interp(mean_fpr, fpr, tpr)\n",
    "#         mean_tpr[0] = 0.0\n",
    "#         roc_auc = auc(fpr, tpr)\n",
    "#         plt.plot(fpr, tpr, lw=1, label='ROC fold %d (area = %0.2f)' % (i, roc_auc))\n",
    "# \n",
    "#     plt.plot([0, 1], [0, 1], '--', color=(0.6, 0.6, 0.6), label='Luck')\n",
    "# \n",
    "#     mean_tpr /= len(cv)\n",
    "#     mean_tpr[-1] = 1.0\n",
    "#     mean_auc = auc(mean_fpr, mean_tpr)\n",
    "#     plt.plot(mean_fpr, mean_tpr, 'k--',\n",
    "#              label='Mean ROC (area = %0.2f)' % mean_auc, lw=2)\n",
    "# \n",
    "#     plt.xlim([-0.05, 1.05])\n",
    "#     plt.ylim([-0.05, 1.05])\n",
    "#     plt.xlabel('False Positive Rate')\n",
    "#     plt.ylabel('True Positive Rate')\n",
    "#     plt.title('CV ROC curve')\n",
    "#     plt.legend(loc=\"lower right\")\n",
    "#     fig = plt.gcf()\n",
    "#     fig.set_size_inches(15,5)\n",
    "# \n",
    "#     plt.show()\n",
    "# \n",
    "# def rocZeroOne(y_true, y_predicted_porba):\n",
    "# \n",
    "#     from sklearn.metrics import roc_curve\n",
    "#     from scipy.spatial.distance import euclidean\n",
    "# \n",
    "#     fpr, tpr, thresholds = roc_curve(y_true, y_predicted_porba[:, 1])\n",
    "# \n",
    "#     best = [0, 1]\n",
    "#     dist = []\n",
    "#     for (x, y) in zip(fpr, tpr):\n",
    "#         dist.append([euclidean([x,y], best)])\n",
    "# \n",
    "#     bestPoint = [fpr[dist.index(min(dist))], tpr[dist.index(min(dist))]]\n",
    "# \n",
    "#     bestCutOff1 = thresholds[list(fpr).index(bestPoint[0])]\n",
    "#     bestCutOff2 = thresholds[list(tpr).index(bestPoint[1])]\n",
    "# \n",
    "#     print('\\n' + 'ROC曲线最佳点位置: TPR = {:0.3f}%, FPR = {:0.3f}%'.format(bestPoint[1]*100, bestPoint[0]*100))\n",
    "#     print('\\n' + '最佳截止点: {:0.4f}'.format(bestCutOff1))\n",
    "# \n",
    "#     plt.plot(dist)\n",
    "#     plt.xlabel('Index')\n",
    "#     plt.ylabel('Euclidean Distance to the perfect [0,1]')\n",
    "#     fig = plt.gcf()\n",
    "#     fig.set_size_inches(15,5)\n",
    "def plotCvRocCurve(X, y, classifier, nsplits=5):\n",
    "    \n",
    "    from sklearn.metrics import roc_curve, auc\n",
    "    from sklearn.model_selection import StratifiedKFold\n",
    "    import matplotlib.pyplot as plt\n",
    "    from scipy import interp\n",
    "    import numpy as np\n",
    "\n",
    "    cv = StratifiedKFold(n_splits=nsplits)\n",
    "\n",
    "    mean_tpr = 0.0\n",
    "    mean_fpr = np.linspace(0, 1, 100)\n",
    "    all_tpr = []\n",
    "\n",
    "    for i, (train, test) in enumerate(cv.split(X, y)):\n",
    "        probas_ = classifier.fit(X.iloc[train], y.iloc[train]).predict_proba(X.iloc[test])\n",
    "\n",
    "        fpr, tpr, thresholds = roc_curve(y.iloc[test], probas_[:, 1])\n",
    "        mean_tpr += interp(mean_fpr, fpr, tpr)\n",
    "        mean_tpr[0] = 0.0\n",
    "        roc_auc = auc(fpr, tpr)\n",
    "        plt.plot(fpr, tpr, lw=1, label='ROC fold %d (area = %0.2f)' % (i, roc_auc))\n",
    "\n",
    "    plt.plot([0, 1], [0, 1], '--', color=(0.6, 0.6, 0.6), label='Luck')\n",
    "\n",
    "    mean_tpr /= nsplits\n",
    "    mean_tpr[-1] = 1.0\n",
    "    mean_auc = auc(mean_fpr, mean_tpr)\n",
    "    plt.plot(mean_fpr, mean_tpr, 'k--',\n",
    "             label='Mean ROC (area = %0.2f)' % mean_auc, lw=2)\n",
    "\n",
    "    plt.xlim([-0.05, 1.05])\n",
    "    plt.ylim([-0.05, 1.05])\n",
    "    plt.xlabel('False Positive Rate')\n",
    "    plt.ylabel('True Positive Rate')\n",
    "    plt.title('CV ROC curve')\n",
    "    plt.legend(loc=\"lower right\")\n",
    "    fig = plt.gcf()\n",
    "    fig.set_size_inches(15,5)\n",
    "\n",
    "    plt.show()\n",
    "\n",
    "def rocZeroOne(y_true, y_predicted_proba):\n",
    "    \n",
    "    from sklearn.metrics import roc_curve\n",
    "    from scipy.spatial.distance import euclidean\n",
    "    import matplotlib.pyplot as plt\n",
    "\n",
    "    fpr, tpr, thresholds = roc_curve(y_true, y_predicted_proba[:, 1])\n",
    "    \n",
    "    best = [0, 1]\n",
    "    dist = []\n",
    "    for (x, y) in zip(fpr, tpr):\n",
    "        dist.append(euclidean([x, y], best))\n",
    "\n",
    "    bestPoint = [fpr[dist.index(min(dist))], tpr[dist.index(min(dist))]]\n",
    "    \n",
    "    bestCutOff1 = thresholds[list(fpr).index(bestPoint[0])]\n",
    "    bestCutOff2 = thresholds[list(tpr).index(bestPoint[1])]\n",
    "    \n",
    "    print('\\n' + 'ROC曲线最佳点位置: TPR = {:0.3f}%, FPR = {:0.3f}%'.format(bestPoint[1]*100, bestPoint[0]*100))\n",
    "    print('\\n' + '最佳截止点: {:0.4f}'.format(bestCutOff1))\n",
    "\n",
    "    plt.plot(dist)\n",
    "    plt.xlabel('Index')\n",
    "    plt.ylabel('Euclidean Distance to the perfect [0,1]')\n",
    "    fig = plt.gcf()\n",
    "    fig.set_size_inches(15,5)\n",
    "    plt.show()\n"
   ]
  },
  {
   "cell_type": "code",
   "execution_count": null,
   "metadata": {
    "ExecuteTime": {
     "end_time": "2024-09-09T19:13:15.828971Z",
     "start_time": "2024-09-09T19:10:49.302321Z"
    }
   },
   "outputs": [],
   "source": [
    "plotCvRocCurve(X, Y, randomizedSearchGB.best_estimator_)"
   ]
  },
  {
   "cell_type": "code",
   "execution_count": null,
   "metadata": {
    "ExecuteTime": {
     "end_time": "2024-09-09T19:04:16.265608Z",
     "start_time": "2024-09-09T19:04:15.921478Z"
    }
   },
   "outputs": [],
   "source": [
    "rocZeroOne(Y_test, randomizedSearchGB.predict_proba(X_test))"
   ]
  },
  {
   "cell_type": "code",
   "execution_count": null,
   "metadata": {
    "ExecuteTime": {
     "end_time": "2024-09-09T19:45:51.860465Z",
     "start_time": "2024-09-09T19:26:40.706513Z"
    }
   },
   "outputs": [],
   "source": [
    "from sklearn.model_selection import GridSearchCV\n",
    "\n",
    "# 定义模型和参数网格\n",
    "model = GradientBoostingClassifier()\n",
    "param_grid = {\n",
    "    'n_estimators': [50, 100, 200],\n",
    "    'learning_rate': [0.01, 0.1, 1]\n",
    "}\n",
    "\n",
    "# 使用 GridSearchCV 进行超参数调优\n",
    "gridSearchAda = GridSearchCV(estimator=model, param_grid=param_grid, scoring='roc_auc', cv=5)\n",
    "gridSearchAda.fit(X, Y)"
   ]
  },
  {
   "cell_type": "code",
   "execution_count": null,
   "metadata": {},
   "outputs": [],
   "source": [
    "data = pd.read_csv('cs-Woetrain.csv')\n",
    "#应变量\n",
    "data_Y = data['SeriousDlqin2yrs']\n",
    "#自变量，剔除对因变量影响不明显的变量\n",
    "data_X = data.drop(['SeriousDlqin2yrs','DebtRatio','NumberRealEstateLoansOrLines','NumberOfDependents'],axis=1)\n",
    "plotCvRocCurve(data_X, data_Y, lrMod.fit(data_X, data_Y))"
   ]
  },
  {
   "cell_type": "code",
   "execution_count": null,
   "metadata": {},
   "outputs": [],
   "source": [
    "plotCvRocCurve(X, Y, gridSearchAda.best_estimator_)"
   ]
  },
  {
   "cell_type": "code",
   "execution_count": null,
   "metadata": {},
   "outputs": [],
   "source": [
    "rocZeroOne(Y_test, gridSearchAda.predict_proba(X_test))"
   ]
  },
  {
   "cell_type": "code",
   "execution_count": null,
   "metadata": {},
   "outputs": [],
   "source": [
    "# lrMod.coef_ "
   ]
  },
  {
   "cell_type": "markdown",
   "metadata": {},
   "source": [
    "LR模型"
   ]
  },
  {
   "cell_type": "code",
   "execution_count": null,
   "metadata": {
    "ExecuteTime": {
     "end_time": "2024-09-10T07:09:15.617696Z",
     "start_time": "2024-09-10T07:09:15.451668Z"
    }
   },
   "outputs": [],
   "source": [
    "Y_test = test['SeriousDlqin2yrs']\n",
    "X_test = test.drop(['SeriousDlqin2yrs', 'DebtRatio', 'NumberRealEstateLoansOrLines', 'NumberOfDependents'], axis=1)\n",
    "rocZeroOne(Y_test, lrMod.predict_proba(X_test))"
   ]
  },
  {
   "cell_type": "code",
   "execution_count": null,
   "metadata": {},
   "outputs": [],
   "source": []
  },
  {
   "cell_type": "code",
   "execution_count": null,
   "metadata": {
    "ExecuteTime": {
     "end_time": "2024-09-09T19:53:31.745465Z",
     "start_time": "2024-09-09T19:53:30.290443Z"
    }
   },
   "outputs": [],
   "source": [
    "import statsmodels.api as sm\n",
    "from sklearn.metrics import roc_curve, auc\n",
    "# 导入数据\n",
    "data = pd.read_csv('cs-Woetrain.csv')\n",
    "#应变量\n",
    "Y = data['SeriousDlqin2yrs']\n",
    "#自变量，剔除对因变量影响不明显的变量\n",
    "X = data.drop(['SeriousDlqin2yrs','DebtRatio','NumberRealEstateLoansOrLines','NumberOfDependents'],axis=1)\n",
    "# X = data.drop(['SeriousDlqin2yrs','DebtRatio','MonthlyIncome', 'NumberOfOpenCreditLinesAndLoans','NumberRealEstateLoansOrLines','NumberOfDependents'],axis=1)\n",
    "X1 = sm.add_constant(X)\n",
    "logit = sm.Logit(Y, X1)\n",
    "result = logit.fit()\n",
    "print(result.summary())"
   ]
  },
  {
   "cell_type": "code",
   "execution_count": null,
   "metadata": {
    "ExecuteTime": {
     "end_time": "2024-09-09T19:53:41.496625Z",
     "start_time": "2024-09-09T19:53:41.294641Z"
    }
   },
   "outputs": [],
   "source": [
    "test = pd.read_csv('cs-TestWoeData.csv')\n",
    "Y_test = test['SeriousDlqin2yrs']\n",
    "# X_test = test.drop(['SeriousDlqin2yrs', 'DebtRatio', 'MonthlyIncome', 'NumberOfOpenCreditLinesAndLoans','NumberRealEstateLoansOrLines', 'NumberOfDependents'], axis=1)\n",
    "X_test = test.drop(['SeriousDlqin2yrs', 'DebtRatio', 'NumberRealEstateLoansOrLines', 'NumberOfDependents'], axis=1)\n",
    "X3 = sm.add_constant(X_test)\n",
    "resu = result.predict(X3)\n",
    "fpr, tpr, threshold = roc_curve(Y_test, resu)\n",
    "rocauc = auc(fpr, tpr)\n",
    "plt.plot(fpr, tpr, 'b', label='AUC = %0.2f' % rocauc)\n",
    "plt.legend(loc = 'lower right')\n",
    "plt.plot([0, 1], [0, 1], 'r--')\n",
    "plt.xlim([0, 1])\n",
    "plt.ylim([0, 1])\n",
    "plt.ylabel('真正率')\n",
    "plt.xlabel('假正率')\n",
    "plt.show()"
   ]
  },
  {
   "cell_type": "code",
   "execution_count": null,
   "metadata": {
    "ExecuteTime": {
     "end_time": "2024-09-09T19:53:45.248830Z",
     "start_time": "2024-09-09T19:53:45.239349Z"
    }
   },
   "outputs": [],
   "source": [
    "lrMod.coef_ "
   ]
  },
  {
   "cell_type": "code",
   "execution_count": null,
   "metadata": {
    "ExecuteTime": {
     "end_time": "2024-09-09T19:53:48.868599Z",
     "start_time": "2024-09-09T19:53:48.854571Z"
    }
   },
   "outputs": [],
   "source": [
    "import math\n",
    "# coe为逻辑回归模型的系数\n",
    "coe = [-9.2342, 0.6295, 0.4615, 1.1004, 0.3725, 0.5254, 1.5906, 1.1133]\n",
    "\n",
    "p = 20 / math.log(2)\n",
    "q = 600 - 20 * math.log(20) / math.log(2)\n",
    "baseScore = round(q + p * coe[0], 0)"
   ]
  },
  {
   "cell_type": "code",
   "execution_count": null,
   "metadata": {
    "ExecuteTime": {
     "end_time": "2024-09-09T19:53:49.570484Z",
     "start_time": "2024-09-09T19:53:49.557455Z"
    }
   },
   "outputs": [],
   "source": [
    "baseScore"
   ]
  },
  {
   "cell_type": "code",
   "execution_count": null,
   "metadata": {
    "ExecuteTime": {
     "end_time": "2024-09-09T19:53:51.179768Z",
     "start_time": "2024-09-09T19:53:51.166331Z"
    }
   },
   "outputs": [],
   "source": [
    "def get_score(coe, woe, factor):\n",
    "    scores = []\n",
    "    for w in woe:\n",
    "        score = round(coe * w * factor, 0)\n",
    "        scores.append(score)\n",
    "    return scores"
   ]
  },
  {
   "cell_type": "code",
   "execution_count": null,
   "metadata": {
    "ExecuteTime": {
     "end_time": "2024-09-09T19:53:56.925532Z",
     "start_time": "2024-09-09T19:53:56.912299Z"
    }
   },
   "outputs": [],
   "source": [
    "x1 = get_score(coe[1], woex1, p)\n",
    "x2 = get_score(coe[2], woex2, p)\n",
    "x3 = get_score(coe[3], woex3, p)\n",
    "x5 = get_score(coe[4], woex5, p)\n",
    "x6 = get_score(coe[5], woex6, p)\n",
    "x7 = get_score(coe[6], woex7, p)\n",
    "x9 = get_score(coe[7], woex9, p)"
   ]
  },
  {
   "cell_type": "code",
   "execution_count": null,
   "metadata": {
    "ExecuteTime": {
     "end_time": "2024-09-09T19:53:57.736327Z",
     "start_time": "2024-09-09T19:53:57.731813Z"
    }
   },
   "outputs": [],
   "source": [
    "print(x1, x2, x3, x5, x6, x7, x9)"
   ]
  },
  {
   "cell_type": "code",
   "execution_count": null,
   "metadata": {
    "ExecuteTime": {
     "end_time": "2024-09-09T19:53:58.745534Z",
     "start_time": "2024-09-09T19:53:58.731445Z"
    }
   },
   "outputs": [],
   "source": [
    "def compute_score(series, cut, score):\n",
    "    list = []\n",
    "    i = 0\n",
    "    while i < len(series):\n",
    "        value = series[i]\n",
    "        j = len(cut) - 2\n",
    "        m = len(cut) - 2\n",
    "        while j >= 0:\n",
    "            if value >= cut[j]:\n",
    "                j = -1\n",
    "            else:\n",
    "                j -= 1\n",
    "                m -= 1\n",
    "        list.append(score[m])\n",
    "        i += 1\n",
    "    return list"
   ]
  },
  {
   "cell_type": "code",
   "execution_count": null,
   "metadata": {
    "ExecuteTime": {
     "end_time": "2024-09-09T19:54:55.612290Z",
     "start_time": "2024-09-09T19:54:53.705381Z"
    }
   },
   "outputs": [],
   "source": [
    "test1 = pd.read_csv('cs-TestData.csv')\n",
    "test1['BaseScore'] = Series(np.zeros(len(test1))) + baseScore\n",
    "test1['x1'] = Series(compute_score(test1['RevolvingUtilizationOfUnsecuredLines'], cutx1, x1))\n",
    "test1['x2'] = Series(compute_score(test1['age'], cutx2, x2))\n",
    "test1['x3'] = Series(compute_score(test1['NumberOfTime30-59DaysPastDueNotWorse'], cutx3, x3))\n",
    "test1['x5'] = Series(compute_score(test1['MonthlyIncome'], cutx5, x5))\n",
    "test1['x6'] = Series(compute_score(test1['NumberOfOpenCreditLinesAndLoans'], cutx6, x6))\n",
    "test1['x7'] = Series(compute_score(test1['NumberOfTimes90DaysLate'], cutx7, x7))\n",
    "test1['x9'] = Series(compute_score(test1['NumberOfTime60-89DaysPastDueNotWorse'], cutx9, x9))\n",
    "test1['Score'] = test1['x1'] + test1['x2'] + test1['x3'] + test1['x7'] +test1['x9']  + baseScore\n",
    "test1.to_csv('cs-ScoreData.csv', index=False)"
   ]
  },
  {
   "cell_type": "code",
   "execution_count": 86,
   "metadata": {
    "ExecuteTime": {
     "end_time": "2024-09-10T07:16:16.530317Z",
     "start_time": "2024-09-10T07:16:16.453803Z"
    }
   },
   "outputs": [],
   "source": [
    "ScoreData = pd.read_csv(\"cs-test.csv\")\n",
    "ScoreData.drop([\"Unnamed: 0\"], axis=1, inplace=True)\n",
    "ScoreData.SeriousDlqin2yrs = -1"
   ]
  },
  {
   "cell_type": "code",
   "execution_count": 87,
   "metadata": {
    "ExecuteTime": {
     "end_time": "2024-09-10T07:16:17.904660Z",
     "start_time": "2024-09-10T07:16:17.891660Z"
    }
   },
   "outputs": [
    {
     "name": "stdout",
     "output_type": "stream",
     "text": [
      "<class 'pandas.core.frame.DataFrame'>\n",
      "RangeIndex: 101503 entries, 0 to 101502\n",
      "Data columns (total 11 columns):\n",
      " #   Column                                Non-Null Count   Dtype  \n",
      "---  ------                                --------------   -----  \n",
      " 0   SeriousDlqin2yrs                      101503 non-null  int64  \n",
      " 1   RevolvingUtilizationOfUnsecuredLines  101503 non-null  float64\n",
      " 2   age                                   101503 non-null  int64  \n",
      " 3   NumberOfTime30-59DaysPastDueNotWorse  101503 non-null  int64  \n",
      " 4   DebtRatio                             101503 non-null  float64\n",
      " 5   MonthlyIncome                         81400 non-null   float64\n",
      " 6   NumberOfOpenCreditLinesAndLoans       101503 non-null  int64  \n",
      " 7   NumberOfTimes90DaysLate               101503 non-null  int64  \n",
      " 8   NumberRealEstateLoansOrLines          101503 non-null  int64  \n",
      " 9   NumberOfTime60-89DaysPastDueNotWorse  101503 non-null  int64  \n",
      " 10  NumberOfDependents                    98877 non-null   float64\n",
      "dtypes: float64(4), int64(7)\n",
      "memory usage: 8.5 MB\n"
     ]
    }
   ],
   "source": [
    "ScoreData.info()"
   ]
  },
  {
   "cell_type": "code",
   "execution_count": 88,
   "metadata": {},
   "outputs": [
    {
     "data": {
      "text/plain": [
       "<Axes: >"
      ]
     },
     "execution_count": 88,
     "metadata": {},
     "output_type": "execute_result"
    },
    {
     "data": {
      "image/png": "[encoded data removed]",
      "text/plain": [
       "<Figure size 640x480 with 1 Axes>"
      ]
     },
     "metadata": {},
     "output_type": "display_data"
    }
   ],
   "source": [
    "ScoreData[\"RevolvingUtilizationOfUnsecuredLines\"].plot(kind=\"box\", grid=True)"
   ]
  },
  {
   "cell_type": "code",
   "execution_count": 89,
   "metadata": {},
   "outputs": [
    {
     "data": {
      "text/plain": [
       "<Axes: >"
      ]
     },
     "execution_count": 89,
     "metadata": {},
     "output_type": "execute_result"
    },
    {
     "data": {
      "image/png": "[encoded data removed]",
      "text/plain": [
       "<Figure size 640x480 with 1 Axes>"
      ]
     },
     "metadata": {},
     "output_type": "display_data"
    }
   ],
   "source": [
    "ScoreData.age.plot.box(grid=True)"
   ]
  },
  {
   "cell_type": "code",
   "execution_count": 90,
   "metadata": {},
   "outputs": [
    {
     "data": {
      "text/plain": [
       "<Axes: >"
      ]
     },
     "execution_count": 90,
     "metadata": {},
     "output_type": "execute_result"
    },
    {
     "data": {
      "image/png": "[encoded data removed]",
      "text/plain": [
       "<Figure size 640x480 with 1 Axes>"
      ]
     },
     "metadata": {},
     "output_type": "display_data"
    }
   ],
   "source": [
    "ScoreData.boxplot(column=[\"NumberOfTime30-59DaysPastDueNotWorse\", \"NumberOfTime60-89DaysPastDueNotWorse\", \"NumberOfTimes90DaysLate\"], \n",
    "            rot=30)"
   ]
  },
  {
   "cell_type": "code",
   "execution_count": 91,
   "metadata": {},
   "outputs": [
    {
     "data": {
      "text/plain": [
       "<Axes: >"
      ]
     },
     "execution_count": 91,
     "metadata": {},
     "output_type": "execute_result"
    },
    {
     "data": {
      "image/png": "[encoded data removed]",
      "text/plain": [
       "<Figure size 640x480 with 1 Axes>"
      ]
     },
     "metadata": {},
     "output_type": "display_data"
    }
   ],
   "source": [
    "ScoreData[\"DebtRatio\"].plot(kind=\"box\")"
   ]
  },
  {
   "cell_type": "code",
   "execution_count": 92,
   "metadata": {},
   "outputs": [
    {
     "data": {
      "text/plain": [
       "<Axes: >"
      ]
     },
     "execution_count": 92,
     "metadata": {},
     "output_type": "execute_result"
    },
    {
     "data": {
      "image/png": "[encoded data removed]",
      "text/plain": [
       "<Figure size 640x480 with 1 Axes>"
      ]
     },
     "metadata": {},
     "output_type": "display_data"
    }
   ],
   "source": [
    "ScoreData.MonthlyIncome.plot.box(grid=True)"
   ]
  },
  {
   "cell_type": "code",
   "execution_count": 93,
   "metadata": {},
   "outputs": [
    {
     "data": {
      "text/plain": [
       "<Axes: >"
      ]
     },
     "execution_count": 93,
     "metadata": {},
     "output_type": "execute_result"
    },
    {
     "data": {
      "image/png": "[encoded data removed]",
      "text/plain": [
       "<Figure size 640x480 with 1 Axes>"
      ]
     },
     "metadata": {},
     "output_type": "display_data"
    }
   ],
   "source": [
    "ScoreData[\"NumberOfOpenCreditLinesAndLoans\"].plot(kind=\"box\")"
   ]
  },
  {
   "cell_type": "code",
   "execution_count": 94,
   "metadata": {},
   "outputs": [
    {
     "data": {
      "text/plain": [
       "<Axes: >"
      ]
     },
     "execution_count": 94,
     "metadata": {},
     "output_type": "execute_result"
    },
    {
     "data": {
      "image/png": "[encoded data removed]",
      "text/plain": [
       "<Figure size 640x480 with 1 Axes>"
      ]
     },
     "metadata": {},
     "output_type": "display_data"
    }
   ],
   "source": [
    "ScoreData[\"NumberRealEstateLoansOrLines\"].plot(kind=\"box\")"
   ]
  },
  {
   "cell_type": "code",
   "execution_count": 96,
   "metadata": {},
   "outputs": [
    {
     "data": {
      "text/plain": [
       "<Axes: >"
      ]
     },
     "execution_count": 96,
     "metadata": {},
     "output_type": "execute_result"
    },
    {
     "data": {
      "image/png": "[encoded data removed]",
      "text/plain": [
       "<Figure size 640x480 with 1 Axes>"
      ]
     },
     "metadata": {},
     "output_type": "display_data"
    }
   ],
   "source": [
    "ScoreData.NumberOfDependents.plot.box(grid=True)"
   ]
  },
  {
   "cell_type": "code",
   "execution_count": 97,
   "metadata": {
    "ExecuteTime": {
     "end_time": "2024-09-10T07:16:25.556138Z",
     "start_time": "2024-09-10T07:16:25.543140Z"
    }
   },
   "outputs": [],
   "source": [
    "from sklearn.ensemble import RandomForestRegressor\n",
    "import pandas as pd\n",
    "\n",
    "# 用随机森林对缺失值预测填充函数\n",
    "from sklearn.ensemble import RandomForestRegressor\n",
    "import pandas as pd\n",
    "\n",
    "# 用随机森林对缺失值进行预测填充的函数\n",
    "def _set_missing(df: pd.DataFrame):  \n",
    "    # 需要填充的列名\n",
    "    cols_to_fill = ['MonthlyIncome', 'NumberOfDependents']\n",
    "    \n",
    "    # 循环遍历每个需要填充的列\n",
    "    for col in cols_to_fill:\n",
    "        # 保留数值型特征，去除第0列并且当前填充的列不作为特征\n",
    "        feature_cols = [col for col in df.columns if col != 'MonthlyIncome' and col != 'NumberOfDependents']\n",
    "        process_df = df.loc[:, feature_cols + [col]]\n",
    "        \n",
    "        # 分成已知该特征和未知该特征两部分\n",
    "        known = process_df[process_df[col].notnull()].values\n",
    "        unknown = process_df[process_df[col].isnull()].values\n",
    "        \n",
    "        if len(unknown) == 0:\n",
    "            continue  # 如果没有缺失值就跳过\n",
    "        # X为特征属性值，去掉要填充的那一列\n",
    "        X = known[:, :-1]\n",
    "        # y为结果标签值，即要填充的列\n",
    "        y = known[:, -1]\n",
    "        \n",
    "        # fit到RandomForestRegressor之中\n",
    "        rfr = RandomForestRegressor(random_state=0, n_estimators=200, max_depth=3, n_jobs=-1)\n",
    "        rfr.fit(X, y)\n",
    "        \n",
    "        # 用得到的模型进行未知特征值预测\n",
    "        predicted = rfr.predict(unknown[:, :-1]).round(0)\n",
    "        print(f\"预测值（{col}）：\", predicted)\n",
    "        \n",
    "        # 用得到的预测结果填补原缺失数据\n",
    "        df.loc[df[col].isnull(), col] = predicted\n",
    "    \n",
    "    return df\n",
    "\n"
   ]
  },
  {
   "cell_type": "code",
   "execution_count": 98,
   "metadata": {
    "ExecuteTime": {
     "end_time": "2024-09-10T07:16:27.182882Z",
     "start_time": "2024-09-10T07:16:27.168781Z"
    }
   },
   "outputs": [
    {
     "data": {
      "text/html": [
       "<div>\n",
       "<style scoped>\n",
       "    .dataframe tbody tr th:only-of-type {\n",
       "        vertical-align: middle;\n",
       "    }\n",
       "\n",
       "    .dataframe tbody tr th {\n",
       "        vertical-align: top;\n",
       "    }\n",
       "\n",
       "    .dataframe thead th {\n",
       "        text-align: right;\n",
       "    }\n",
       "</style>\n",
       "<table border=\"1\" class=\"dataframe\">\n",
       "  <thead>\n",
       "    <tr style=\"text-align: right;\">\n",
       "      <th></th>\n",
       "      <th>SeriousDlqin2yrs</th>\n",
       "      <th>RevolvingUtilizationOfUnsecuredLines</th>\n",
       "      <th>age</th>\n",
       "      <th>NumberOfTime30-59DaysPastDueNotWorse</th>\n",
       "      <th>DebtRatio</th>\n",
       "      <th>MonthlyIncome</th>\n",
       "      <th>NumberOfOpenCreditLinesAndLoans</th>\n",
       "      <th>NumberOfTimes90DaysLate</th>\n",
       "      <th>NumberRealEstateLoansOrLines</th>\n",
       "      <th>NumberOfTime60-89DaysPastDueNotWorse</th>\n",
       "      <th>NumberOfDependents</th>\n",
       "    </tr>\n",
       "  </thead>\n",
       "  <tbody>\n",
       "  </tbody>\n",
       "</table>\n",
       "</div>"
      ],
      "text/plain": [
       "Empty DataFrame\n",
       "Columns: [SeriousDlqin2yrs, RevolvingUtilizationOfUnsecuredLines, age, NumberOfTime30-59DaysPastDueNotWorse, DebtRatio, MonthlyIncome, NumberOfOpenCreditLinesAndLoans, NumberOfTimes90DaysLate, NumberRealEstateLoansOrLines, NumberOfTime60-89DaysPastDueNotWorse, NumberOfDependents]\n",
       "Index: []"
      ]
     },
     "execution_count": 98,
     "metadata": {},
     "output_type": "execute_result"
    }
   ],
   "source": [
    "ScoreData[ScoreData.SeriousDlqin2yrs == 0].head()"
   ]
  },
  {
   "cell_type": "code",
   "execution_count": 99,
   "metadata": {
    "ExecuteTime": {
     "end_time": "2024-09-10T07:16:39.235679Z",
     "start_time": "2024-09-10T07:16:30.088632Z"
    }
   },
   "outputs": [
    {
     "name": "stdout",
     "output_type": "stream",
     "text": [
      "预测值（MonthlyIncome）： [3256. 1780. 8351. ... 1780. 1780. 8351.]\n",
      "预测值（NumberOfDependents）： [0. 1. 1. ... 0. 0. 0.]\n"
     ]
    }
   ],
   "source": [
    "# 数据处理\n",
    "ScoreData = _set_missing(ScoreData) # 使用随机森林处理缺失值\n",
    "# 使用2来代替大于2的值\n",
    "revNew = []\n",
    "for val in ScoreData.RevolvingUtilizationOfUnsecuredLines:\n",
    "    if val <= 2:\n",
    "        revNew.append(val)\n",
    "    else:\n",
    "        revNew.append(2.)\n",
    "ScoreData.RevolvingUtilizationOfUnsecuredLines = revNew\n",
    "\n",
    "ScoreData[\"NumberOfTime30-59DaysPastDueNotWorse\"] = replaceOutlier(ScoreData[\"NumberOfTime30-59DaysPastDueNotWorse\"])\n",
    "ScoreData[\"NumberOfTime60-89DaysPastDueNotWorse\"] = replaceOutlier(ScoreData[\"NumberOfTime60-89DaysPastDueNotWorse\"])\n",
    "ScoreData[\"NumberOfTimes90DaysLate\"] = replaceOutlier(ScoreData[\"NumberOfTimes90DaysLate\"])\n",
    "\n",
    "\n",
    "minUpperBound = min([val for (val, out) in zip(ScoreData.DebtRatio, mad_based_outlier(ScoreData.DebtRatio.values)) if out == True])\n",
    "newDebtRatio = []\n",
    "for val in ScoreData.DebtRatio:\n",
    "    if val > minUpperBound:\n",
    "        newDebtRatio.append(minUpperBound)\n",
    "    else:\n",
    "        newDebtRatio.append(val)\n",
    "ScoreData.DebtRatio = newDebtRatio\n",
    "\n",
    "\n",
    "minUpperBound_MonthlyIncome = min(\n",
    "    [val for (val, out) in zip(ScoreData.MonthlyIncome, mad_based_outlier(ScoreData.MonthlyIncome.values)) if out == True])\n",
    "newMonthlyIncome = []\n",
    "for val in ScoreData.MonthlyIncome:\n",
    "    if val > minUpperBound_MonthlyIncome:\n",
    "        newMonthlyIncome.append(minUpperBound_MonthlyIncome)\n",
    "    else:\n",
    "        newMonthlyIncome.append(val)\n",
    "ScoreData.MonthlyIncome = newMonthlyIncome\n",
    "\n",
    "minUpperBound_NumberOfOpenCreditLinesAndLoans = min([val for (val, out) in zip(df.NumberOfOpenCreditLinesAndLoans,\n",
    "                                                                               mad_based_outlier(\n",
    "                                                                                   df.NumberOfOpenCreditLinesAndLoans.values))                                                if out == True])\n",
    "\n",
    "\n",
    "newNumberOfOpenCreditLinesAndLoans = []\n",
    "for val in ScoreData.NumberOfOpenCreditLinesAndLoans:\n",
    "    if val > minUpperBound_NumberOfOpenCreditLinesAndLoans:\n",
    "        newNumberOfOpenCreditLinesAndLoans.append(minUpperBound_NumberOfOpenCreditLinesAndLoans)\n",
    "    else:\n",
    "        newNumberOfOpenCreditLinesAndLoans.append(val)\n",
    "\n",
    "ScoreData.NumberOfOpenCreditLinesAndLoans = newNumberOfOpenCreditLinesAndLoans\n",
    "\n",
    "\n",
    "realNew = []\n",
    "for val in ScoreData.NumberRealEstateLoansOrLines:\n",
    "    if val > 17:\n",
    "        realNew.append(17)\n",
    "    else:\n",
    "        realNew.append(val)\n",
    "\n",
    "ScoreData.NumberRealEstateLoansOrLines = realNew\n",
    "\n",
    "\n",
    "depNew = []\n",
    "for var in ScoreData.NumberOfDependents:\n",
    "    if var > 10:\n",
    "        depNew.append(10)\n",
    "    else:\n",
    "        depNew.append(var)\n",
    "\n",
    "ScoreData.NumberOfDependents = depNew\n",
    "\n",
    "\n"
   ]
  },
  {
   "cell_type": "code",
   "execution_count": null,
   "metadata": {
    "ExecuteTime": {
     "end_time": "2024-09-10T07:13:58.277245Z",
     "start_time": "2024-09-10T07:13:58.264247Z"
    }
   },
   "outputs": [],
   "source": []
  },
  {
   "cell_type": "code",
   "execution_count": 100,
   "metadata": {
    "ExecuteTime": {
     "end_time": "2024-09-10T07:16:43.028583Z",
     "start_time": "2024-09-10T07:16:42.046392Z"
    }
   },
   "outputs": [
    {
     "name": "stdout",
     "output_type": "stream",
     "text": [
      "<class 'pandas.core.frame.DataFrame'>\n",
      "RangeIndex: 101503 entries, 0 to 101502\n",
      "Data columns (total 10 columns):\n",
      " #   Column                                Non-Null Count   Dtype  \n",
      "---  ------                                --------------   -----  \n",
      " 0   RevolvingUtilizationOfUnsecuredLines  101503 non-null  float64\n",
      " 1   age                                   101503 non-null  int64  \n",
      " 2   NumberOfTime30-59DaysPastDueNotWorse  101503 non-null  float64\n",
      " 3   DebtRatio                             101503 non-null  float64\n",
      " 4   MonthlyIncome                         101503 non-null  float64\n",
      " 5   NumberOfOpenCreditLinesAndLoans       101503 non-null  int64  \n",
      " 6   NumberOfTimes90DaysLate               101503 non-null  float64\n",
      " 7   NumberRealEstateLoansOrLines          101503 non-null  int64  \n",
      " 8   NumberOfTime60-89DaysPastDueNotWorse  101503 non-null  float64\n",
      " 9   NumberOfDependents                    101503 non-null  float64\n",
      "dtypes: float64(7), int64(3)\n",
      "memory usage: 7.7 MB\n"
     ]
    },
    {
     "ename": "NameError",
     "evalue": "name 'bestGbModFitted' is not defined",
     "output_type": "error",
     "traceback": [
      "\u001b[1;31m---------------------------------------------------------------------------\u001b[0m",
      "\u001b[1;31mNameError\u001b[0m                                 Traceback (most recent call last)",
      "Cell \u001b[1;32mIn[100], line 9\u001b[0m\n\u001b[0;32m      3\u001b[0m X_new\u001b[38;5;241m.\u001b[39minfo()\n\u001b[0;32m      4\u001b[0m \u001b[38;5;66;03m# X_new = sm.add_constant(X_new)  # 如果需要常数列\u001b[39;00m\n\u001b[0;32m      5\u001b[0m \n\u001b[0;32m      6\u001b[0m \u001b[38;5;66;03m# 3. 使用模型进行预测\u001b[39;00m\n\u001b[0;32m      7\u001b[0m \u001b[38;5;66;03m# 使用最优的模型，假设是 bestGbModFitted 或 bestAdaModFitted\u001b[39;00m\n\u001b[0;32m      8\u001b[0m \u001b[38;5;66;03m# 获取概率预测 (如果需要 AUC、ROC 曲线，可以使用概率预测)\u001b[39;00m\n\u001b[1;32m----> 9\u001b[0m predictions_proba \u001b[38;5;241m=\u001b[39m bestGbModFitted\u001b[38;5;241m.\u001b[39mpredict_proba(X_new)\n\u001b[0;32m     11\u001b[0m \u001b[38;5;66;03m# 如果你只需要分类预测\u001b[39;00m\n\u001b[0;32m     12\u001b[0m predictions \u001b[38;5;241m=\u001b[39m bestGbModFitted\u001b[38;5;241m.\u001b[39mpredict(X_new)\n",
      "\u001b[1;31mNameError\u001b[0m: name 'bestGbModFitted' is not defined"
     ]
    }
   ],
   "source": [
    "\n",
    "# 确保新数据的特征与模型训练时保持一致\n",
    "X_new = ScoreData.drop(['SeriousDlqin2yrs'], axis=1)\n",
    "X_new.info()\n",
    "# X_new = sm.add_constant(X_new)  # 如果需要常数列\n",
    "\n",
    "# 3. 使用模型进行预测\n",
    "# 使用最优的模型，假设是 bestGbModFitted 或 bestAdaModFitted\n",
    "# 获取概率预测 (如果需要 AUC、ROC 曲线，可以使用概率预测)\n",
    "predictions_proba = bestGbModFitted.predict_proba(X_new)\n",
    "\n",
    "# 如果你只需要分类预测\n",
    "predictions = bestGbModFitted.predict(X_new)\n",
    "\n",
    "# 4. 保存预测结果\n",
    "# 将预测结果添加到原数据中\n",
    "ScoreData['Predicted_Probability'] = predictions_proba[:, 1]  # 假设我们只需要正类的概率\n",
    "ScoreData['SeriousDlqin2yrs'] = predictions  # 分类预测结果\n",
    "\n",
    "# 保存结果到 CSV\n",
    "ScoreData.to_csv('predicted_results.csv', index=False)\n",
    "\n",
    "print(\"预测已完成，并保存到 'predicted_results.csv'\")\n"
   ]
  }
 ],
 "metadata": {
  "kernelspec": {
   "display_name": "Python 3 (ipykernel)",
   "language": "python",
   "name": "python3"
  },
  "language_info": {
   "codemirror_mode": {
    "name": "ipython",
    "version": 3
   },
   "file_extension": ".py",
   "mimetype": "text/x-python",
   "name": "python",
   "nbconvert_exporter": "python",
   "pygments_lexer": "ipython3",
   "version": "3.12.4"
  }
 },
 "nbformat": 4,
 "nbformat_minor": 4
}
